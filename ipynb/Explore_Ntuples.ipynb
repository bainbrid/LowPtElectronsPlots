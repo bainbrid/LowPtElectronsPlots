{
 "cells": [
  {
   "cell_type": "code",
   "execution_count": 1,
   "metadata": {
    "collapsed": true
   },
   "outputs": [],
   "source": [
    "import uproot\n",
    "import pandas as pd\n",
    "import numpy as np"
   ]
  },
  {
   "cell_type": "code",
   "execution_count": 2,
   "metadata": {
    "collapsed": false
   },
   "outputs": [],
   "source": [
    "tfile = uproot.open('electron_features.root')\n",
    "mc = pd.DataFrame(\n",
    "      tfile['features/tree'].arrays(\n",
    "         tfile['features/tree'].keys()\n",
    "         )\n",
    "      )"
   ]
  },
  {
   "cell_type": "code",
   "execution_count": 3,
   "metadata": {
    "collapsed": false
   },
   "outputs": [
    {
     "data": {
      "text/html": [
       "<div>\n",
       "<style>\n",
       "    .dataframe thead tr:only-child th {\n",
       "        text-align: right;\n",
       "    }\n",
       "\n",
       "    .dataframe thead th {\n",
       "        text-align: left;\n",
       "    }\n",
       "\n",
       "    .dataframe tbody tr th {\n",
       "        vertical-align: top;\n",
       "    }\n",
       "</style>\n",
       "<table border=\"1\" class=\"dataframe\">\n",
       "  <thead>\n",
       "    <tr style=\"text-align: right;\">\n",
       "      <th></th>\n",
       "      <th>gen_pt</th>\n",
       "      <th>trk_pt</th>\n",
       "      <th>gsf_pt</th>\n",
       "      <th>ele_pt</th>\n",
       "      <th>preid_trk_ecal_Deta</th>\n",
       "    </tr>\n",
       "  </thead>\n",
       "  <tbody>\n",
       "    <tr>\n",
       "      <th>0</th>\n",
       "      <td>3.608217</td>\n",
       "      <td>3.363398</td>\n",
       "      <td>3.456851</td>\n",
       "      <td>3.416700</td>\n",
       "      <td>0.057574</td>\n",
       "    </tr>\n",
       "    <tr>\n",
       "      <th>1</th>\n",
       "      <td>3.100642</td>\n",
       "      <td>3.081321</td>\n",
       "      <td>3.155636</td>\n",
       "      <td>3.641827</td>\n",
       "      <td>0.003723</td>\n",
       "    </tr>\n",
       "    <tr>\n",
       "      <th>2</th>\n",
       "      <td>3.924682</td>\n",
       "      <td>-1.000000</td>\n",
       "      <td>-1.000000</td>\n",
       "      <td>-1.000000</td>\n",
       "      <td>-1.000000</td>\n",
       "    </tr>\n",
       "    <tr>\n",
       "      <th>3</th>\n",
       "      <td>12.313822</td>\n",
       "      <td>12.179570</td>\n",
       "      <td>11.894906</td>\n",
       "      <td>14.609233</td>\n",
       "      <td>-0.000939</td>\n",
       "    </tr>\n",
       "    <tr>\n",
       "      <th>4</th>\n",
       "      <td>1.070635</td>\n",
       "      <td>1.024662</td>\n",
       "      <td>1.094570</td>\n",
       "      <td>-1.000000</td>\n",
       "      <td>0.006878</td>\n",
       "    </tr>\n",
       "  </tbody>\n",
       "</table>\n",
       "</div>"
      ],
      "text/plain": [
       "      gen_pt     trk_pt     gsf_pt     ele_pt  preid_trk_ecal_Deta\n",
       "0   3.608217   3.363398   3.456851   3.416700             0.057574\n",
       "1   3.100642   3.081321   3.155636   3.641827             0.003723\n",
       "2   3.924682  -1.000000  -1.000000  -1.000000            -1.000000\n",
       "3  12.313822  12.179570  11.894906  14.609233            -0.000939\n",
       "4   1.070635   1.024662   1.094570  -1.000000             0.006878"
      ]
     },
     "execution_count": 3,
     "metadata": {},
     "output_type": "execute_result"
    }
   ],
   "source": [
    "mc[mc.is_e][['gen_pt','trk_pt','gsf_pt','ele_pt','preid_trk_ecal_Deta']].head()"
   ]
  },
  {
   "cell_type": "code",
   "execution_count": 4,
   "metadata": {
    "collapsed": false
   },
   "outputs": [],
   "source": [
    "missing = mc.is_e & (mc.gsf_pt > 0) & (mc.ele_pt <= 0)\n",
    "miss = mc[missing]\n",
    "trk_dr = np.sqrt((miss.gen_eta - miss.trk_eta)**2 + (miss.gen_phi- miss.trk_phi)**2)\n",
    "gsf_dr = np.sqrt((miss.gen_eta - miss.gsf_eta)**2 + (miss.gen_phi- miss.gsf_phi)**2)"
   ]
  },
  {
   "cell_type": "code",
   "execution_count": 5,
   "metadata": {
    "collapsed": false
   },
   "outputs": [
    {
     "data": {
      "text/html": [
       "<div>\n",
       "<style>\n",
       "    .dataframe thead tr:only-child th {\n",
       "        text-align: right;\n",
       "    }\n",
       "\n",
       "    .dataframe thead th {\n",
       "        text-align: left;\n",
       "    }\n",
       "\n",
       "    .dataframe tbody tr th {\n",
       "        vertical-align: top;\n",
       "    }\n",
       "</style>\n",
       "<table border=\"1\" class=\"dataframe\">\n",
       "  <thead>\n",
       "    <tr style=\"text-align: right;\">\n",
       "      <th></th>\n",
       "      <th>lumi</th>\n",
       "      <th>evt</th>\n",
       "      <th>gen_pt</th>\n",
       "      <th>trk_pt</th>\n",
       "      <th>gsf_pt</th>\n",
       "      <th>ele_pt</th>\n",
       "      <th>preid_trk_ecal_Deta</th>\n",
       "    </tr>\n",
       "  </thead>\n",
       "  <tbody>\n",
       "    <tr>\n",
       "      <th>13</th>\n",
       "      <td>106572</td>\n",
       "      <td>31971353</td>\n",
       "      <td>5.426744</td>\n",
       "      <td>5.531412</td>\n",
       "      <td>1.736093</td>\n",
       "      <td>-1.0</td>\n",
       "      <td>-0.003527</td>\n",
       "    </tr>\n",
       "    <tr>\n",
       "      <th>83</th>\n",
       "      <td>197294</td>\n",
       "      <td>59188092</td>\n",
       "      <td>5.626984</td>\n",
       "      <td>3.422086</td>\n",
       "      <td>3.397850</td>\n",
       "      <td>-1.0</td>\n",
       "      <td>0.011344</td>\n",
       "    </tr>\n",
       "    <tr>\n",
       "      <th>99</th>\n",
       "      <td>198241</td>\n",
       "      <td>59472208</td>\n",
       "      <td>4.315388</td>\n",
       "      <td>4.142424</td>\n",
       "      <td>4.623238</td>\n",
       "      <td>-1.0</td>\n",
       "      <td>-0.011715</td>\n",
       "    </tr>\n",
       "    <tr>\n",
       "      <th>155</th>\n",
       "      <td>199308</td>\n",
       "      <td>59792332</td>\n",
       "      <td>8.633627</td>\n",
       "      <td>7.779459</td>\n",
       "      <td>9.001151</td>\n",
       "      <td>-1.0</td>\n",
       "      <td>-0.003374</td>\n",
       "    </tr>\n",
       "    <tr>\n",
       "      <th>188</th>\n",
       "      <td>201513</td>\n",
       "      <td>60453732</td>\n",
       "      <td>4.425927</td>\n",
       "      <td>4.392927</td>\n",
       "      <td>5.440060</td>\n",
       "      <td>-1.0</td>\n",
       "      <td>1000.000000</td>\n",
       "    </tr>\n",
       "  </tbody>\n",
       "</table>\n",
       "</div>"
      ],
      "text/plain": [
       "       lumi       evt    gen_pt    trk_pt    gsf_pt  ele_pt  \\\n",
       "13   106572  31971353  5.426744  5.531412  1.736093    -1.0   \n",
       "83   197294  59188092  5.626984  3.422086  3.397850    -1.0   \n",
       "99   198241  59472208  4.315388  4.142424  4.623238    -1.0   \n",
       "155  199308  59792332  8.633627  7.779459  9.001151    -1.0   \n",
       "188  201513  60453732  4.425927  4.392927  5.440060    -1.0   \n",
       "\n",
       "     preid_trk_ecal_Deta  \n",
       "13             -0.003527  \n",
       "83              0.011344  \n",
       "99             -0.011715  \n",
       "155            -0.003374  \n",
       "188          1000.000000  "
      ]
     },
     "execution_count": 5,
     "metadata": {},
     "output_type": "execute_result"
    }
   ],
   "source": [
    "miss[miss.gen_pt > 4][['lumi','evt','gen_pt','trk_pt','gsf_pt','ele_pt','preid_trk_ecal_Deta']].head()"
   ]
  },
  {
   "cell_type": "code",
   "execution_count": 6,
   "metadata": {
    "collapsed": false
   },
   "outputs": [
    {
     "data": {
      "text/plain": [
       "['has_ele_core',\n",
       " 'has_pfBlock',\n",
       " 'has_pfBlock_with_ECAL',\n",
       " 'has_pfBlock_with_SC',\n",
       " 'has_pfEgamma',\n",
       " 'has_pfGSF_trk',\n",
       " 'pfgsf_gsf_has_ktf']"
      ]
     },
     "execution_count": 6,
     "metadata": {},
     "output_type": "execute_result"
    }
   ],
   "source": [
    "[i for i in miss.columns if 'has' in i]"
   ]
  },
  {
   "cell_type": "code",
   "execution_count": 7,
   "metadata": {
    "collapsed": false
   },
   "outputs": [
    {
     "name": "stdout",
     "output_type": "stream",
     "text": [
      "1:188451:56535285,1:197582:59274487,1:198749:59624562,1:201111:60333114,1:203454:61035956,1:204665:61399352,1:205841:61752053,1:191989:57596421\n",
      "\n",
      "\n",
      "\n",
      "{57596421: (4.8779349327087402, 1.6361966133117676, -0.44368463754653931), 59624562: (1.3961746692657471, -1.7653611898422241, 0.35166314244270325), 61035956: (1.3295170068740845, -0.74432915449142456, -0.89448297023773193), 56535285: (2.057009220123291, -0.78594261407852173, -2.8598525524139404), 59274487: (1.2078419923782349, -0.71046125888824463, 1.0331467390060425), 61399352: (1.9714157581329346, -1.4073941707611084, 1.7577246427536011), 60333114: (1.0912861824035645, -0.87859433889389038, -2.2439939975738525), 61752053: (1.9641132354736328, -1.4127223491668701, 2.0960731506347656)}\n",
      "8\n"
     ]
    }
   ],
   "source": [
    "mask = (miss.preid_trk_ecal_Deta < 999) & np.invert(miss.has_ele_core)\n",
    "#has_pfGSF_trk has_pfEgamma\n",
    "mask1 = (mask & miss.has_pfGSF_trk &np.invert(miss.has_pfEgamma))\n",
    "to_check1 = miss[mask1][['run','lumi','evt','gsf_pt','gsf_eta','gsf_phi']]\n",
    "\n",
    "print ','.join([':'.join([str(j) for j in i]) for i in to_check1[['run','lumi','evt']].as_matrix()])\n",
    "print '\\n\\n'\n",
    "vv = {}\n",
    "for i in range(to_check1.shape[0]):\n",
    "    entry = to_check1.iloc[i]\n",
    "    vv[int(entry.evt)] = (entry.gsf_pt, entry.gsf_eta, entry.gsf_phi)\n",
    "print vv\n",
    "to_check1.head()\n",
    "print to_check1.shape[0]"
   ]
  },
  {
   "cell_type": "code",
   "execution_count": 8,
   "metadata": {
    "collapsed": false
   },
   "outputs": [
    {
     "name": "stdout",
     "output_type": "stream",
     "text": [
      "1:106498:31949309,1:196220:58865712,1:198241:59472208,1:201071:60321251,1:203639:61091548,1:204605:61381254,1:205812:61743594,1:205952:61785330,1:190534:57160055,1:192724:57817001,1:194675:58402401\n",
      "\n",
      "\n",
      "\n",
      "{59472208: (4.6232380867004395, -0.65895694494247437, -0.25869864225387573), 60321251: (1.1779265403747559, 0.82428324222564697, 1.5455923080444336), 61381254: (4.7505941390991211, 0.25948464870452881, -2.0914435386657715), 58402401: (1.7245339155197144, 0.44584566354751587, -1.5300849676132202), 57817001: (9.2789793014526367, 2.2519600391387939, 0.67897021770477295), 61743594: (9.8303279876708984, 0.39349210262298584, 2.9180049896240234), 58865712: (2.4383711814880371, -1.5381476879119873, 3.0827889442443848), 61785330: (1.6721429824829102, -0.74857711791992188, -1.1605315208435059), 57160055: (2.4560666084289551, 0.96155643463134766, -2.9944767951965332), 61091548: (17.432041168212891, -0.23632617294788361, 2.0985651016235352), 31949309: (3.1733708381652832, 1.6469196081161499, -1.1084054708480835)}\n",
      "11\n"
     ]
    },
    {
     "data": {
      "text/html": [
       "<div>\n",
       "<style>\n",
       "    .dataframe thead tr:only-child th {\n",
       "        text-align: right;\n",
       "    }\n",
       "\n",
       "    .dataframe thead th {\n",
       "        text-align: left;\n",
       "    }\n",
       "\n",
       "    .dataframe tbody tr th {\n",
       "        vertical-align: top;\n",
       "    }\n",
       "</style>\n",
       "<table border=\"1\" class=\"dataframe\">\n",
       "  <thead>\n",
       "    <tr style=\"text-align: right;\">\n",
       "      <th></th>\n",
       "      <th>run</th>\n",
       "      <th>lumi</th>\n",
       "      <th>evt</th>\n",
       "      <th>gsf_pt</th>\n",
       "      <th>gsf_eta</th>\n",
       "      <th>gsf_phi</th>\n",
       "    </tr>\n",
       "  </thead>\n",
       "  <tbody>\n",
       "    <tr>\n",
       "      <th>9</th>\n",
       "      <td>1</td>\n",
       "      <td>106498</td>\n",
       "      <td>31949309</td>\n",
       "      <td>3.173371</td>\n",
       "      <td>1.646920</td>\n",
       "      <td>-1.108405</td>\n",
       "    </tr>\n",
       "    <tr>\n",
       "      <th>43</th>\n",
       "      <td>1</td>\n",
       "      <td>196220</td>\n",
       "      <td>58865712</td>\n",
       "      <td>2.438371</td>\n",
       "      <td>-1.538148</td>\n",
       "      <td>3.082789</td>\n",
       "    </tr>\n",
       "    <tr>\n",
       "      <th>99</th>\n",
       "      <td>1</td>\n",
       "      <td>198241</td>\n",
       "      <td>59472208</td>\n",
       "      <td>4.623238</td>\n",
       "      <td>-0.658957</td>\n",
       "      <td>-0.258699</td>\n",
       "    </tr>\n",
       "    <tr>\n",
       "      <th>176</th>\n",
       "      <td>1</td>\n",
       "      <td>201071</td>\n",
       "      <td>60321251</td>\n",
       "      <td>1.177927</td>\n",
       "      <td>0.824283</td>\n",
       "      <td>1.545592</td>\n",
       "    </tr>\n",
       "    <tr>\n",
       "      <th>247</th>\n",
       "      <td>1</td>\n",
       "      <td>203639</td>\n",
       "      <td>61091548</td>\n",
       "      <td>17.432041</td>\n",
       "      <td>-0.236326</td>\n",
       "      <td>2.098565</td>\n",
       "    </tr>\n",
       "  </tbody>\n",
       "</table>\n",
       "</div>"
      ],
      "text/plain": [
       "     run    lumi       evt     gsf_pt   gsf_eta   gsf_phi\n",
       "9      1  106498  31949309   3.173371  1.646920 -1.108405\n",
       "43     1  196220  58865712   2.438371 -1.538148  3.082789\n",
       "99     1  198241  59472208   4.623238 -0.658957 -0.258699\n",
       "176    1  201071  60321251   1.177927  0.824283  1.545592\n",
       "247    1  203639  61091548  17.432041 -0.236326  2.098565"
      ]
     },
     "execution_count": 8,
     "metadata": {},
     "output_type": "execute_result"
    }
   ],
   "source": [
    "#has_pfGSF_trk has_pfEgamma\n",
    "mask2 = (mask & np.invert(miss.has_pfGSF_trk) & (miss.gsf_pt > 0))\n",
    "to_check2 = miss[mask2][['run','lumi','evt','gsf_pt','gsf_eta','gsf_phi']]\n",
    "\n",
    "print ','.join([':'.join([str(j) for j in i]) for i in to_check2[['run','lumi','evt']].as_matrix()])\n",
    "print '\\n\\n'\n",
    "vv = {}\n",
    "for i in range(to_check2.shape[0]):\n",
    "    entry = to_check2.iloc[i]\n",
    "    vv[int(entry.evt)] = (entry.gsf_pt, entry.gsf_eta, entry.gsf_phi)\n",
    "print vv\n",
    "print to_check2.shape[0]\n",
    "to_check2.head()"
   ]
  },
  {
   "cell_type": "code",
   "execution_count": 9,
   "metadata": {
    "collapsed": false
   },
   "outputs": [
    {
     "data": {
      "text/plain": [
       "Index([u'ele_eta', u'ele_phi', u'ele_pt', u'evt', u'gen_eta', u'gen_phi',\n",
       "       u'gen_pt', u'gsf_chi2red', u'gsf_dxy', u'gsf_dxy_err', u'gsf_eta',\n",
       "       u'gsf_inp', u'gsf_nhits', u'gsf_outp', u'gsf_phi', u'gsf_pt',\n",
       "       u'has_ele_core', u'has_pfBlock', u'has_pfBlock_with_ECAL',\n",
       "       u'has_pfBlock_with_SC', u'has_pfEgamma', u'has_pfGSF_trk', u'is_e',\n",
       "       u'is_e_not_matched', u'is_other', u'lumi', u'pfgsf_gsf_ecalDriven',\n",
       "       u'pfgsf_gsf_has_ktf', u'pfgsf_gsf_trackerDriven',\n",
       "       u'pfgsf_ktf_is_fifthStep', u'pfgsf_passes_preselection',\n",
       "       u'pfgsf_passes_selection', u'pfgsf_valid_gsf_brem',\n",
       "       u'pfgsf_xclean_AngularGsfCleaning', u'pfgsf_xclean_BothTrk_bad_EoverP',\n",
       "       u'pfgsf_xclean_BothTrk_noECAL_match',\n",
       "       u'pfgsf_xclean_ECALDriven_bad_EoverP',\n",
       "       u'pfgsf_xclean_ECALDriven_too_few_hits', u'pfgsf_xclean_FINAL',\n",
       "       u'pfgsf_xclean_TrkDriven_too_few_hits',\n",
       "       u'pfgsf_xclean_TrkDriven_vs_ECALDriven',\n",
       "       u'pfgsf_xclean_noECAL_match_AGAIN', u'pfgsf_xclean_seedref',\n",
       "       u'preid_bdtout', u'preid_e_over_p', u'preid_gsf_chi2red',\n",
       "       u'preid_gsf_dpt', u'preid_gsf_success', u'preid_ibin',\n",
       "       u'preid_mva_pass', u'preid_numGSF', u'preid_trk_ecal_Deta',\n",
       "       u'preid_trk_ecal_Dphi', u'preid_trk_ecal_match',\n",
       "       u'preid_trk_gsf_chiratio', u'preid_trkfilter_pass', u'run',\n",
       "       u'trk_chi2red', u'trk_dxy', u'trk_dxy_err', u'trk_eta',\n",
       "       u'trk_high_purity', u'trk_inp', u'trk_nhits', u'trk_outp', u'trk_phi',\n",
       "       u'trk_pt'],\n",
       "      dtype='object')"
      ]
     },
     "execution_count": 9,
     "metadata": {},
     "output_type": "execute_result"
    }
   ],
   "source": [
    "miss.columns"
   ]
  },
  {
   "cell_type": "code",
   "execution_count": null,
   "metadata": {
    "collapsed": true
   },
   "outputs": [],
   "source": []
  },
  {
   "cell_type": "code",
   "execution_count": 10,
   "metadata": {
    "collapsed": false
   },
   "outputs": [],
   "source": [
    "wgsf_nopfgsf = miss[(miss.gsf_pt > 0) & np.invert(miss.has_pfGSF_trk)].copy()\n",
    "xclean = [i for i in miss.columns if 'pfgsf_xclean_' in i]\n",
    "wgsf_nopfgsf.pfgsf_xclean_seedref = np.invert(wgsf_nopfgsf.pfgsf_xclean_seedref)"
   ]
  },
  {
   "cell_type": "code",
   "execution_count": 11,
   "metadata": {
    "collapsed": false
   },
   "outputs": [
    {
     "data": {
      "text/plain": [
       "True"
      ]
     },
     "execution_count": 11,
     "metadata": {},
     "output_type": "execute_result"
    }
   ],
   "source": [
    "(wgsf_nopfgsf[xclean].as_matrix().sum(axis=1) == 1).all()"
   ]
  },
  {
   "cell_type": "code",
   "execution_count": 12,
   "metadata": {
    "collapsed": true
   },
   "outputs": [],
   "source": [
    "lines_mapping = {\n",
    " 'pfgsf_xclean_AngularGsfCleaning' : 'L750',\n",
    " 'pfgsf_xclean_BothTrk_bad_EoverP' : 'L715',\n",
    " 'pfgsf_xclean_BothTrk_noECAL_match' : 'L731',\n",
    " 'pfgsf_xclean_ECALDriven_bad_EoverP' : 'L614',\n",
    " 'pfgsf_xclean_ECALDriven_too_few_hits' : 'L609',\n",
    " 'pfgsf_xclean_FINAL' : 'L781',\n",
    " 'pfgsf_xclean_TrkDriven_too_few_hits' : 'L662',\n",
    " 'pfgsf_xclean_TrkDriven_vs_ECALDriven' : 'L679',\n",
    " 'pfgsf_xclean_noECAL_match_AGAIN' : 'L772',\n",
    " 'pfgsf_xclean_seedref' : 'L518',\n",
    "}\n",
    "\n",
    "def format_name(nn):\n",
    "    return nn.split('_xclean_')[1].replace('_', ' ')+' '+lines_mapping[nn]"
   ]
  },
  {
   "cell_type": "code",
   "execution_count": null,
   "metadata": {
    "collapsed": false
   },
   "outputs": [],
   "source": []
  },
  {
   "cell_type": "code",
   "execution_count": 13,
   "metadata": {
    "collapsed": false
   },
   "outputs": [],
   "source": [
    "%matplotlib inline\n",
    "import matplotlib.pyplot as plt"
   ]
  },
  {
   "cell_type": "code",
   "execution_count": 14,
   "metadata": {
    "collapsed": false
   },
   "outputs": [
    {
     "data": {
      "image/png": "[encoded data removed]",
      "text/plain": [
       "<matplotlib.figure.Figure at 0x7fe5f0188d10>"
      ]
     },
     "metadata": {},
     "output_type": "display_data"
    }
   ],
   "source": [
    "name_and_sizes = [(format_name(i), wgsf_nopfgsf[i].sum()) for i in xclean if wgsf_nopfgsf[i].sum()]\n",
    "fig = plt.figure(figsize=(13, 13))\n",
    "plt.pie([i for _, i in name_and_sizes], labels=[i for i, _ in name_and_sizes], autopct='%1.1f%%')\n",
    "plt.show()"
   ]
  },
  {
   "cell_type": "code",
   "execution_count": 15,
   "metadata": {
    "collapsed": false
   },
   "outputs": [
    {
     "data": {
      "image/png": "[encoded data removed]",
      "text/plain": [
       "<matplotlib.figure.Figure at 0x7fe5f0188c10>"
      ]
     },
     "metadata": {},
     "output_type": "display_data"
    }
   ],
   "source": [
    "name_and_sizes = [(format_name(i), wgsf_nopfgsf[wgsf_nopfgsf.gen_pt < 3][i].sum()) for i in xclean if wgsf_nopfgsf[i].sum()]\n",
    "fig = plt.figure(figsize=(13, 13))\n",
    "plt.title('gen pT < 3 GeV')\n",
    "plt.pie([i for _, i in name_and_sizes], labels=[i for i, _ in name_and_sizes], autopct='%1.1f%%')\n",
    "plt.show()"
   ]
  },
  {
   "cell_type": "code",
   "execution_count": 16,
   "metadata": {
    "collapsed": false
   },
   "outputs": [
    {
     "data": {
      "image/png": "[encoded data removed]",
      "text/plain": [
       "<matplotlib.figure.Figure at 0x7fe5eda80890>"
      ]
     },
     "metadata": {},
     "output_type": "display_data"
    }
   ],
   "source": [
    "name_and_sizes = [(format_name(i), wgsf_nopfgsf[(wgsf_nopfgsf.gen_pt >= 3) & (wgsf_nopfgsf.gen_pt < 6)][i].sum()) for i in xclean if wgsf_nopfgsf[i].sum()]\n",
    "fig = plt.figure(figsize=(13, 13))\n",
    "plt.title('gen pT in [3, 6] GeV')\n",
    "plt.pie([i for _, i in name_and_sizes], labels=[i for i, _ in name_and_sizes], autopct='%1.1f%%')\n",
    "plt.show()"
   ]
  },
  {
   "cell_type": "code",
   "execution_count": 17,
   "metadata": {
    "collapsed": false
   },
   "outputs": [
    {
     "name": "stdout",
     "output_type": "stream",
     "text": [
      "gen_pt                                  3.21331\n",
      "gsf_pt                                  3.17337\n",
      "gsf_eta                                 1.64692\n",
      "gsf_phi                                -1.10841\n",
      "has_pfGSF_trk                             False\n",
      "pfgsf_xclean_AngularGsfCleaning           False\n",
      "pfgsf_xclean_BothTrk_bad_EoverP            True\n",
      "pfgsf_xclean_BothTrk_noECAL_match         False\n",
      "pfgsf_xclean_ECALDriven_bad_EoverP        False\n",
      "pfgsf_xclean_ECALDriven_too_few_hits      False\n",
      "pfgsf_xclean_FINAL                        False\n",
      "pfgsf_xclean_TrkDriven_too_few_hits       False\n",
      "pfgsf_xclean_TrkDriven_vs_ECALDriven      False\n",
      "pfgsf_xclean_noECAL_match_AGAIN           False\n",
      "pfgsf_xclean_seedref                       True\n",
      "Name: 9, dtype: object\n",
      "\n",
      "\n",
      "\n",
      "\n",
      "gen_pt                                  2.56042\n",
      "gsf_pt                                    2.717\n",
      "gsf_eta                                 1.70873\n",
      "gsf_phi                                -1.27441\n",
      "has_pfGSF_trk                             False\n",
      "pfgsf_xclean_AngularGsfCleaning           False\n",
      "pfgsf_xclean_BothTrk_bad_EoverP           False\n",
      "pfgsf_xclean_BothTrk_noECAL_match         False\n",
      "pfgsf_xclean_ECALDriven_bad_EoverP        False\n",
      "pfgsf_xclean_ECALDriven_too_few_hits      False\n",
      "pfgsf_xclean_FINAL                        False\n",
      "pfgsf_xclean_TrkDriven_too_few_hits       False\n",
      "pfgsf_xclean_TrkDriven_vs_ECALDriven      False\n",
      "pfgsf_xclean_noECAL_match_AGAIN            True\n",
      "pfgsf_xclean_seedref                       True\n",
      "Name: 8, dtype: object\n"
     ]
    }
   ],
   "source": [
    "useful_info = [\n",
    "    'gen_pt', 'gsf_pt', 'gsf_eta', 'gsf_phi',\n",
    "    'has_pfGSF_trk'\n",
    "] + [i for i in miss.columns if i.startswith('pfgsf_xclean_')]\n",
    "print miss[(miss.evt == 31949309)].iloc[1][useful_info]\n",
    "print '\\n\\n\\n'\n",
    "print miss[(miss.evt == 31949309)].iloc[0][useful_info]"
   ]
  },
  {
   "cell_type": "code",
   "execution_count": 18,
   "metadata": {
    "collapsed": true
   },
   "outputs": [],
   "source": [
    "debug_entries = [i for i in open('debug.log').read().split('PFElecTkProducer:: considering track')]"
   ]
  },
  {
   "cell_type": "code",
   "execution_count": 19,
   "metadata": {
    "collapsed": false
   },
   "outputs": [
    {
     "data": {
      "text/plain": [
       "2"
      ]
     },
     "execution_count": 19,
     "metadata": {},
     "output_type": "execute_result"
    }
   ],
   "source": [
    "interesting_entries = [i for i in debug_entries if any(j in i.split('\\n')[0] for j in ['3.173', '2.717'])]\n",
    "len(interesting_entries)"
   ]
  },
  {
   "cell_type": "code",
   "execution_count": 20,
   "metadata": {
    "collapsed": true
   },
   "outputs": [],
   "source": [
    "cropped = [i.split('\\n')[0]+'\\n PFElecTkProducer:: and  comparing with track'+i.split('comparing with track')[-1] for i in interesting_entries]"
   ]
  },
  {
   "cell_type": "code",
   "execution_count": 21,
   "metadata": {
    "collapsed": false
   },
   "outputs": [
    {
     "name": "stdout",
     "output_type": "stream",
     "text": [
      " 3.17337 eta,phi 1.64692, -1.10841\n",
      " PFElecTkProducer:: and  comparing with track 1.22521 eta,phi 1.65264, -0.730939\n",
      " Entering angular superloose preselection \n",
      " Sharing ECAL energy passed  nEtot 3.1423 iEtot 3.1423\n",
      " Both Track are trackerDriven \n",
      " nETot 3.1423 iETot 3.1423 ETot 3.1423\n",
      " nPin 8.06068 iPin 3.09306 nEP 0.38983 iEP 1.01592\n",
      " \n",
      "\n",
      "\n",
      "\n",
      "\n",
      " 2.717 eta,phi 1.70873, -1.27441\n",
      " PFElecTkProducer:: and  comparing with track 5.84655 eta,phi 1.65407, -1.18535\n",
      " Entering angular superloose preselection \n",
      " Close Tracks and failed all the conditions  feta 0.0546587 fabs(fphi) 0.106415 minBremDphi 0.106736 nETot 0 iETot 3.1423 nLostHits 0 iLostHits 0\n",
      "\n"
     ]
    }
   ],
   "source": [
    "print cropped[0]\n",
    "print '\\n\\n\\n'\n",
    "print cropped[1]"
   ]
  },
  {
   "cell_type": "code",
   "execution_count": 22,
   "metadata": {
    "collapsed": true
   },
   "outputs": [],
   "source": [
    "matched = uproot.open('perfectSeeding.root')\n",
    "perfect_seeding = pd.DataFrame(\n",
    "      matched['features/tree'].arrays(\n",
    "         matched['features/tree'].keys()\n",
    "         )\n",
    "      )"
   ]
  },
  {
   "cell_type": "code",
   "execution_count": 23,
   "metadata": {
    "collapsed": false
   },
   "outputs": [
    {
     "name": "stdout",
     "output_type": "stream",
     "text": [
      "gen_pt                                  3.21331\n",
      "gsf_pt                                  3.17337\n",
      "gsf_eta                                 1.64692\n",
      "gsf_phi                                -1.10841\n",
      "has_pfGSF_trk                              True\n",
      "pfgsf_xclean_AngularGsfCleaning           False\n",
      "pfgsf_xclean_BothTrk_bad_EoverP           False\n",
      "pfgsf_xclean_BothTrk_noECAL_match         False\n",
      "pfgsf_xclean_ECALDriven_bad_EoverP        False\n",
      "pfgsf_xclean_ECALDriven_too_few_hits      False\n",
      "pfgsf_xclean_FINAL                         True\n",
      "pfgsf_xclean_TrkDriven_too_few_hits       False\n",
      "pfgsf_xclean_TrkDriven_vs_ECALDriven      False\n",
      "pfgsf_xclean_noECAL_match_AGAIN           False\n",
      "pfgsf_xclean_seedref                       True\n",
      "Name: 9, dtype: object\n",
      "\n",
      "\n",
      "\n",
      "\n",
      "gen_pt                                  2.56042\n",
      "gsf_pt                                    2.717\n",
      "gsf_eta                                 1.70873\n",
      "gsf_phi                                -1.27441\n",
      "has_pfGSF_trk                             False\n",
      "pfgsf_xclean_AngularGsfCleaning           False\n",
      "pfgsf_xclean_BothTrk_bad_EoverP           False\n",
      "pfgsf_xclean_BothTrk_noECAL_match         False\n",
      "pfgsf_xclean_ECALDriven_bad_EoverP        False\n",
      "pfgsf_xclean_ECALDriven_too_few_hits      False\n",
      "pfgsf_xclean_FINAL                        False\n",
      "pfgsf_xclean_TrkDriven_too_few_hits       False\n",
      "pfgsf_xclean_TrkDriven_vs_ECALDriven      False\n",
      "pfgsf_xclean_noECAL_match_AGAIN            True\n",
      "pfgsf_xclean_seedref                       True\n",
      "Name: 8, dtype: object\n"
     ]
    }
   ],
   "source": [
    "print perfect_seeding[(perfect_seeding.evt == 31949309)].iloc[1][useful_info]\n",
    "print '\\n\\n\\n'\n",
    "print perfect_seeding[(perfect_seeding.evt == 31949309)].iloc[0][useful_info]"
   ]
  },
  {
   "cell_type": "code",
   "execution_count": 39,
   "metadata": {
    "collapsed": false
   },
   "outputs": [],
   "source": [
    "wgsf_nopfgsf_idx = wgsf_nopfgsf.set_index(['lumi','evt','gsf_pt'])\n",
    "perfect_seeding_idx = perfect_seeding.set_index(['lumi','evt','gsf_pt'])"
   ]
  },
  {
   "cell_type": "code",
   "execution_count": 45,
   "metadata": {
    "collapsed": false
   },
   "outputs": [
    {
     "data": {
      "text/html": [
       "<div>\n",
       "<style>\n",
       "    .dataframe thead tr:only-child th {\n",
       "        text-align: right;\n",
       "    }\n",
       "\n",
       "    .dataframe thead th {\n",
       "        text-align: left;\n",
       "    }\n",
       "\n",
       "    .dataframe tbody tr th {\n",
       "        vertical-align: top;\n",
       "    }\n",
       "</style>\n",
       "<table border=\"1\" class=\"dataframe\">\n",
       "  <thead>\n",
       "    <tr style=\"text-align: right;\">\n",
       "      <th></th>\n",
       "      <th></th>\n",
       "      <th></th>\n",
       "      <th>ele_pt</th>\n",
       "    </tr>\n",
       "    <tr>\n",
       "      <th>lumi</th>\n",
       "      <th>evt</th>\n",
       "      <th>gsf_pt</th>\n",
       "      <th></th>\n",
       "    </tr>\n",
       "  </thead>\n",
       "  <tbody>\n",
       "    <tr>\n",
       "      <th rowspan=\"2\" valign=\"top\">106094</th>\n",
       "      <th rowspan=\"2\" valign=\"top\">31828124</th>\n",
       "      <th>3.456851</th>\n",
       "      <td>3.416700</td>\n",
       "    </tr>\n",
       "    <tr>\n",
       "      <th>3.155636</th>\n",
       "      <td>3.641827</td>\n",
       "    </tr>\n",
       "    <tr>\n",
       "      <th rowspan=\"2\" valign=\"top\">106186</th>\n",
       "      <th rowspan=\"2\" valign=\"top\">31855719</th>\n",
       "      <th>-1.000000</th>\n",
       "      <td>-1.000000</td>\n",
       "    </tr>\n",
       "    <tr>\n",
       "      <th>11.894906</th>\n",
       "      <td>14.609233</td>\n",
       "    </tr>\n",
       "    <tr>\n",
       "      <th>106402</th>\n",
       "      <th>31920547</th>\n",
       "      <th>1.094570</th>\n",
       "      <td>-1.000000</td>\n",
       "    </tr>\n",
       "  </tbody>\n",
       "</table>\n",
       "</div>"
      ],
      "text/plain": [
       "                               ele_pt\n",
       "lumi   evt      gsf_pt               \n",
       "106094 31828124  3.456851    3.416700\n",
       "                 3.155636    3.641827\n",
       "106186 31855719 -1.000000   -1.000000\n",
       "                 11.894906  14.609233\n",
       "106402 31920547  1.094570   -1.000000"
      ]
     },
     "execution_count": 45,
     "metadata": {},
     "output_type": "execute_result"
    }
   ],
   "source": [
    "#wgsf_nopfgsf_idx.head()\n",
    "perfect_seeding_idx[['ele_pt']].head()"
   ]
  },
  {
   "cell_type": "code",
   "execution_count": 64,
   "metadata": {
    "collapsed": false
   },
   "outputs": [],
   "source": [
    "lmerged = [\n",
    "    'gen_pt', 'gsf_eta', 'gsf_phi',\n",
    "    'has_pfGSF_trk'\n",
    "] + [i for i in miss.columns if i.startswith('pfgsf_xclean_')]\n",
    "merged = pd.merge(\n",
    "    wgsf_nopfgsf[useful_info+['lumi','evt']],\n",
    "    perfect_seeding[['lumi','evt','gsf_pt','ele_pt','has_ele_core', 'has_pfBlock', 'has_pfBlock_with_ECAL']],\n",
    "    on=['lumi','evt','gsf_pt'],\n",
    "    how='inner',\n",
    ")"
   ]
  },
  {
   "cell_type": "code",
   "execution_count": 75,
   "metadata": {
    "collapsed": false
   },
   "outputs": [
    {
     "data": {
      "text/html": [
       "<div>\n",
       "<style>\n",
       "    .dataframe thead tr:only-child th {\n",
       "        text-align: right;\n",
       "    }\n",
       "\n",
       "    .dataframe thead th {\n",
       "        text-align: left;\n",
       "    }\n",
       "\n",
       "    .dataframe tbody tr th {\n",
       "        vertical-align: top;\n",
       "    }\n",
       "</style>\n",
       "<table border=\"1\" class=\"dataframe\">\n",
       "  <thead>\n",
       "    <tr style=\"text-align: right;\">\n",
       "      <th></th>\n",
       "      <th>evt</th>\n",
       "      <th>gsf_pt</th>\n",
       "      <th>has_ele_core</th>\n",
       "      <th>pfgsf_xclean_noECAL_match_AGAIN</th>\n",
       "      <th>pfgsf_xclean_BothTrk_bad_EoverP</th>\n",
       "    </tr>\n",
       "  </thead>\n",
       "  <tbody>\n",
       "    <tr>\n",
       "      <th>0</th>\n",
       "      <td>31949309</td>\n",
       "      <td>2.717000</td>\n",
       "      <td>False</td>\n",
       "      <td>True</td>\n",
       "      <td>False</td>\n",
       "    </tr>\n",
       "    <tr>\n",
       "      <th>1</th>\n",
       "      <td>31949309</td>\n",
       "      <td>3.173371</td>\n",
       "      <td>True</td>\n",
       "      <td>False</td>\n",
       "      <td>True</td>\n",
       "    </tr>\n",
       "    <tr>\n",
       "      <th>2</th>\n",
       "      <td>31998469</td>\n",
       "      <td>1.786889</td>\n",
       "      <td>False</td>\n",
       "      <td>True</td>\n",
       "      <td>False</td>\n",
       "    </tr>\n",
       "    <tr>\n",
       "      <th>3</th>\n",
       "      <td>58865712</td>\n",
       "      <td>2.438371</td>\n",
       "      <td>True</td>\n",
       "      <td>False</td>\n",
       "      <td>True</td>\n",
       "    </tr>\n",
       "    <tr>\n",
       "      <th>4</th>\n",
       "      <td>32265644</td>\n",
       "      <td>3.420204</td>\n",
       "      <td>True</td>\n",
       "      <td>False</td>\n",
       "      <td>True</td>\n",
       "    </tr>\n",
       "  </tbody>\n",
       "</table>\n",
       "</div>"
      ],
      "text/plain": [
       "        evt    gsf_pt  has_ele_core  pfgsf_xclean_noECAL_match_AGAIN  \\\n",
       "0  31949309  2.717000         False                             True   \n",
       "1  31949309  3.173371          True                            False   \n",
       "2  31998469  1.786889         False                             True   \n",
       "3  58865712  2.438371          True                            False   \n",
       "4  32265644  3.420204          True                            False   \n",
       "\n",
       "   pfgsf_xclean_BothTrk_bad_EoverP  \n",
       "0                            False  \n",
       "1                             True  \n",
       "2                            False  \n",
       "3                             True  \n",
       "4                             True  "
      ]
     },
     "execution_count": 75,
     "metadata": {},
     "output_type": "execute_result"
    }
   ],
   "source": [
    "merged[['evt','gsf_pt','has_ele_core','pfgsf_xclean_noECAL_match_AGAIN','pfgsf_xclean_BothTrk_bad_EoverP']].head()"
   ]
  },
  {
   "cell_type": "code",
   "execution_count": 79,
   "metadata": {
    "collapsed": false
   },
   "outputs": [
    {
     "data": {
      "text/plain": [
       "gen_pt                                   1.64359\n",
       "gsf_pt                                   1.67214\n",
       "gsf_eta                                -0.748577\n",
       "gsf_phi                                 -1.16053\n",
       "has_pfGSF_trk                              False\n",
       "pfgsf_xclean_AngularGsfCleaning            False\n",
       "pfgsf_xclean_BothTrk_bad_EoverP            False\n",
       "pfgsf_xclean_BothTrk_noECAL_match          False\n",
       "pfgsf_xclean_ECALDriven_bad_EoverP         False\n",
       "pfgsf_xclean_ECALDriven_too_few_hits       False\n",
       "pfgsf_xclean_FINAL                         False\n",
       "pfgsf_xclean_TrkDriven_too_few_hits        False\n",
       "pfgsf_xclean_TrkDriven_vs_ECALDriven       False\n",
       "pfgsf_xclean_noECAL_match_AGAIN             True\n",
       "pfgsf_xclean_seedref                       False\n",
       "lumi                                      205952\n",
       "evt                                     61785330\n",
       "ele_pt                                   1.63915\n",
       "has_ele_core                                True\n",
       "has_pfBlock                                 True\n",
       "has_pfBlock_with_ECAL                       True\n",
       "Name: 19, dtype: object"
      ]
     },
     "execution_count": 79,
     "metadata": {},
     "output_type": "execute_result"
    }
   ],
   "source": [
    "merged[(merged.has_ele_core & merged.pfgsf_xclean_noECAL_match_AGAIN)].iloc[0]"
   ]
  },
  {
   "cell_type": "code",
   "execution_count": 89,
   "metadata": {
    "collapsed": false
   },
   "outputs": [
    {
     "name": "stdout",
     "output_type": "stream",
     "text": [
      "      lumi       evt    gsf_pt    ele_pt\n",
      "1   106498  31949309  3.173371  3.115899\n",
      "3   196220  58865712  2.438371  2.376912\n",
      "4   107553  32265644  3.420204 -1.000000\n",
      "5   107748  32324317  3.257180 -1.000000\n",
      "11  198241  59472208  4.623238  4.815022\n",
      "21  190534  57160055  2.456067  2.389011\n",
      "27  195636  58690608  2.268065 -1.000000\n"
     ]
    }
   ],
   "source": [
    "print merged[(merged.has_ele_core & merged.pfgsf_xclean_BothTrk_bad_EoverP)][['lumi','evt','gsf_pt', 'ele_pt']]"
   ]
  },
  {
   "cell_type": "code",
   "execution_count": 84,
   "metadata": {
    "collapsed": false
   },
   "outputs": [
    {
     "name": "stdout",
     "output_type": "stream",
     "text": [
      "(7, 21) 7 9\n",
      "13 14\n"
     ]
    }
   ],
   "source": [
    "print merged[(merged.has_ele_core & merged.pfgsf_xclean_BothTrk_bad_EoverP)].shape, merged.pfgsf_xclean_BothTrk_bad_EoverP.sum(), wgsf_nopfgsf.pfgsf_xclean_BothTrk_bad_EoverP.sum()\n",
    "print merged.pfgsf_xclean_noECAL_match_AGAIN.sum(), wgsf_nopfgsf.pfgsf_xclean_noECAL_match_AGAIN.sum()"
   ]
  },
  {
   "cell_type": "code",
   "execution_count": 73,
   "metadata": {
    "collapsed": false
   },
   "outputs": [
    {
     "data": {
      "text/plain": [
       "28"
      ]
     },
     "execution_count": 73,
     "metadata": {},
     "output_type": "execute_result"
    }
   ],
   "source": [
    "len(kleft.intersection(kright))"
   ]
  },
  {
   "cell_type": "code",
   "execution_count": null,
   "metadata": {
    "collapsed": true
   },
   "outputs": [],
   "source": []
  }
 ],
 "metadata": {
  "kernelspec": {
   "display_name": "Python 2",
   "language": "python",
   "name": "python2"
  },
  "language_info": {
   "codemirror_mode": {
    "name": "ipython",
    "version": 2
   },
   "file_extension": ".py",
   "mimetype": "text/x-python",
   "name": "python",
   "nbconvert_exporter": "python",
   "pygments_lexer": "ipython2",
   "version": "2.7.11"
  }
 },
 "nbformat": 4,
 "nbformat_minor": 2
}
