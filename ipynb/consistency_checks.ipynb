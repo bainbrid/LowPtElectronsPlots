{
 "cells": [
  {
   "cell_type": "code",
   "execution_count": 1,
   "metadata": {},
   "outputs": [],
   "source": [
    "%matplotlib inline"
   ]
  },
  {
   "cell_type": "code",
   "execution_count": 2,
   "metadata": {},
   "outputs": [
    {
     "name": "stdout",
     "output_type": "stream",
     "text": [
      "lxplus073.cern.ch\n",
      "Welcome to JupyROOT 6.12/07\n"
     ]
    }
   ],
   "source": [
    "import numpy as np\n",
    "import matplotlib\n",
    "from argparse import ArgumentParser\n",
    "from cmsjson import CMSJson\n",
    "from pdb import set_trace\n",
    "import os\n",
    "from glob import glob\n",
    "import pandas as pd\n",
    "import json\n",
    "from pprint import pprint\n",
    "import matplotlib.pyplot as plt\n",
    "\n",
    "from features import *\n",
    "from sklearn.externals import joblib\n",
    "import xgboost as xgb\n",
    "#from datasets import pre_process_data\n",
    "import datasets"
   ]
  },
  {
   "cell_type": "markdown",
   "metadata": {},
   "source": [
    "Seeding\n",
    "=="
   ]
  },
  {
   "cell_type": "code",
   "execution_count": 3,
   "metadata": {},
   "outputs": [],
   "source": [
    "datasets.tag = '2018Nov01'\n",
    "datasets.posix = '2018Nov01'"
   ]
  },
  {
   "cell_type": "code",
   "execution_count": 4,
   "metadata": {},
   "outputs": [],
   "source": [
    "biased_features, additional = get_features('displaced_improvedfullseeding')\n",
    "unbiased_features, additional = get_features('improvedfullseeding')"
   ]
  },
  {
   "cell_type": "code",
   "execution_count": 5,
   "metadata": {},
   "outputs": [],
   "source": [
    "cmssw_feats = [\n",
    "    'preid_trk_pt',\n",
    "    'preid_trk_eta',\n",
    "    'preid_trk_phi',\n",
    "    'preid_trk_p',\n",
    "    'preid_trk_nhits',\n",
    "    'preid_trk_high_quality',\n",
    "    'preid_trk_chi2red',\n",
    "    'preid_rho',\n",
    "    'preid_ktf_ecal_cluster_e',\n",
    "    'preid_ktf_ecal_cluster_deta',\n",
    "    'preid_ktf_ecal_cluster_dphi',\n",
    "    'preid_ktf_ecal_cluster_e3x3',\n",
    "    'preid_ktf_ecal_cluster_e5x5',\n",
    "    'preid_ktf_ecal_cluster_covEtaEta',\n",
    "    'preid_ktf_ecal_cluster_covEtaPhi',\n",
    "    'preid_ktf_ecal_cluster_covPhiPhi',\n",
    "    'preid_ktf_ecal_cluster_r9',\n",
    "    'preid_ktf_ecal_cluster_circularity',\n",
    "    'preid_ktf_hcal_cluster_e',\n",
    "    'preid_ktf_hcal_cluster_deta',\n",
    "    'preid_ktf_hcal_cluster_dphi',\n",
    "    'preid_gsf_dpt',\n",
    "    'preid_trk_gsf_chiratio',\n",
    "    'preid_gsf_chi2red',\n",
    "    'preid_trk_dxy_sig',\n",
    "]"
   ]
  },
  {
   "cell_type": "code",
   "execution_count": 6,
   "metadata": {},
   "outputs": [
    {
     "name": "stderr",
     "output_type": "stream",
     "text": [
      "/cvmfs/cms.cern.ch/slc6_amd64_gcc700/external/py2-scikit-learn/0.19.1/lib/python2.7/site-packages/sklearn/base.py:311: UserWarning: Trying to unpickle estimator LabelEncoder from version 0.18.1 when using version 0.19.1. This might lead to breaking code or invalid results. Use at your own risk.\n",
      "  UserWarning)\n"
     ]
    }
   ],
   "source": [
    "biased_model = joblib.load(  'models/2018Nov01/bdt_bo_displaced_improvedfullseeding_noweight/model_18.pkl')\n",
    "unbiased_model = joblib.load('models/2018Nov01/bdt_bo_improvedfullseeding/model_24.pkl')\n",
    "\n",
    "def _monkey_patch():\n",
    "    return model._Booster\n",
    "\n",
    "for model in [biased_model, unbiased_model]:\n",
    "    if isinstance(model.booster, basestring):\n",
    "        model.booster = _monkey_patch"
   ]
  },
  {
   "cell_type": "code",
   "execution_count": 7,
   "metadata": {},
   "outputs": [
    {
     "name": "stdout",
     "output_type": "stream",
     "text": [
      "getting files: \n",
      "/afs/cern.ch/work/m/mverzett/RK102v2/src/LowPtElectrons/LowPtElectrons/run/bugfix_test.root\n"
     ]
    },
    {
     "name": "stderr",
     "output_type": "stream",
     "text": [
      "/cvmfs/cms.cern.ch/slc6_amd64_gcc700/external/py2-scikit-learn/0.19.1/lib/python2.7/site-packages/sklearn/base.py:311: UserWarning: Trying to unpickle estimator MiniBatchKMeans from version 0.18.1 when using version 0.19.1. This might lead to breaking code or invalid results. Use at your own risk.\n",
      "  UserWarning)\n"
     ]
    }
   ],
   "source": [
    "feats = set(biased_features+unbiased_features+labeling+['preid_bdtout1', 'preid_bdtout2', 'run','lumi','evt']+cmssw_feats)\n",
    "datasets.input_files['test'] = ['/afs/cern.ch/work/m/mverzett/RK102v2/src/LowPtElectrons/LowPtElectrons/run/bugfix_test.root']\n",
    "data = datasets.pre_process_data('test', list(feats), False)"
   ]
  },
  {
   "cell_type": "code",
   "execution_count": 8,
   "metadata": {},
   "outputs": [],
   "source": [
    "biased_out = biased_model.predict_proba(data[biased_features].values)[:,1]\n",
    "biased_out[np.isnan(biased_out)] = -999 #happens rarely, but happens\n",
    "\n",
    "unbiased_out = unbiased_model.predict_proba(data[unbiased_features].values)[:,1]\n",
    "unbiased_out[np.isnan(unbiased_out)] = -999 #happens rarely, but happens\n",
    "\n",
    "cmssw_biased_out = biased_model.predict_proba(data[cmssw_feats].values)[:,1]\n",
    "cmssw_biased_out[np.isnan(cmssw_biased_out)] = -999 #happens rarely, but happens\n",
    "\n",
    "cmssw_unbiased_out = unbiased_model.predict_proba(data[cmssw_feats[:-1]].values)[:,1]\n",
    "cmssw_unbiased_out[np.isnan(cmssw_unbiased_out)] = -999 #happens rarely, but happens\n"
   ]
  },
  {
   "cell_type": "code",
   "execution_count": 9,
   "metadata": {},
   "outputs": [
    {
     "data": {
      "text/plain": [
       "['trk_pt',\n",
       " 'trk_eta',\n",
       " 'trk_phi',\n",
       " 'trk_p',\n",
       " 'trk_nhits',\n",
       " 'trk_high_purity',\n",
       " 'trk_chi2red',\n",
       " 'rho',\n",
       " 'ktf_ecal_cluster_e',\n",
       " 'ktf_ecal_cluster_deta',\n",
       " 'ktf_ecal_cluster_dphi',\n",
       " 'ktf_ecal_cluster_e3x3',\n",
       " 'ktf_ecal_cluster_e5x5',\n",
       " 'ktf_ecal_cluster_covEtaEta',\n",
       " 'ktf_ecal_cluster_covEtaPhi',\n",
       " 'ktf_ecal_cluster_covPhiPhi',\n",
       " 'ktf_ecal_cluster_r9',\n",
       " 'ktf_ecal_cluster_circularity_',\n",
       " 'ktf_hcal_cluster_e',\n",
       " 'ktf_hcal_cluster_deta',\n",
       " 'ktf_hcal_cluster_dphi',\n",
       " 'preid_gsf_dpt',\n",
       " 'preid_trk_gsf_chiratio',\n",
       " 'preid_gsf_chi2red',\n",
       " 'trk_dxy_sig']"
      ]
     },
     "execution_count": 9,
     "metadata": {},
     "output_type": "execute_result"
    }
   ],
   "source": [
    "biased_features"
   ]
  },
  {
   "cell_type": "code",
   "execution_count": 4,
   "metadata": {},
   "outputs": [],
   "source": [
    "def consistency(a1, a2, name, twod_only=False, vrange=[[-10, 10], [-10, 10]]):\n",
    "    plt.figure(figsize=[8,8])\n",
    "    plt.hist2d(a1, a2, bins=20, range=vrange)\n",
    "    plt.title('%s 2d' % name)\n",
    "    plt.show()\n",
    "    if twod_only: return\n",
    "    delta = a1 - a2\n",
    "    rel_delta = delta/a1\n",
    "    plt.figure(figsize=[8,8])\n",
    "    plt.hist(delta)\n",
    "    plt.title('%s delta' % name)\n",
    "    plt.show()\n",
    "    plt.figure(figsize=[8,8])\n",
    "    plt.hist(rel_delta)\n",
    "    plt.title('%s relative delta' % name)\n",
    "    plt.show()\n"
   ]
  },
  {
   "cell_type": "code",
   "execution_count": 24,
   "metadata": {},
   "outputs": [
    {
     "data": {
      "image/png": "[encoded data removed]",
      "text/plain": [
       "<matplotlib.figure.Figure at 0x7fe421d908d0>"
      ]
     },
     "metadata": {},
     "output_type": "display_data"
    },
    {
     "data": {
      "image/png": "[encoded data removed]",
      "text/plain": [
       "<matplotlib.figure.Figure at 0x7fe4334a9a90>"
      ]
     },
     "metadata": {},
     "output_type": "display_data"
    },
    {
     "data": {
      "image/png": "[encoded data removed]",
      "text/plain": [
       "<matplotlib.figure.Figure at 0x7fe421bc1fd0>"
      ]
     },
     "metadata": {},
     "output_type": "display_data"
    }
   ],
   "source": [
    "consistency(biased_out, data.preid_bdtout2, 'xgb_cms')"
   ]
  },
  {
   "cell_type": "code",
   "execution_count": null,
   "metadata": {},
   "outputs": [],
   "source": [
    "consistency(cmssw_biased_out, data.preid_bdtout2, 'xgbcms_cms')"
   ]
  },
  {
   "cell_type": "code",
   "execution_count": null,
   "metadata": {},
   "outputs": [],
   "source": [
    "consistency(biased_out, cmssw_biased_out, 'xgb_xgbcms')"
   ]
  },
  {
   "cell_type": "code",
   "execution_count": null,
   "metadata": {},
   "outputs": [],
   "source": [
    "plt.figure(figsize=[8,8])\n",
    "plt.hist(biased_out, label='xgb', range=[-10, 10], bins=20, histtype='step')\n",
    "plt.hist(data.preid_bdtout2, label='cmssw', range=[-10, 10], bins=20, histtype='step')\n",
    "plt.hist(cmssw_biased_out, label='xgb_cmssw', range=[-10, 10], bins=20, histtype='step')\n",
    "plt.legend(loc='best')\n",
    "plt.show()"
   ]
  },
  {
   "cell_type": "code",
   "execution_count": 13,
   "metadata": {},
   "outputs": [],
   "source": [
    "import itertools\n",
    "import scipy"
   ]
  },
  {
   "cell_type": "code",
   "execution_count": 21,
   "metadata": {},
   "outputs": [
    {
     "name": "stdout",
     "output_type": "stream",
     "text": [
      "trk_pt  -  preid_trk_pt 1.0\n",
      "trk_eta  -  preid_trk_eta 1.0\n",
      "trk_phi  -  preid_trk_phi 1.0\n",
      "trk_p  -  preid_trk_p 1.0\n",
      "trk_nhits  -  preid_trk_nhits 0.999999975729689\n",
      "trk_high_purity  -  preid_trk_high_quality nan\n",
      "trk_chi2red  -  preid_trk_chi2red 1.0\n",
      "rho  -  preid_rho 1.0\n",
      "ktf_ecal_cluster_e  -  preid_ktf_ecal_cluster_e 1.0\n",
      "ktf_ecal_cluster_deta  -  preid_ktf_ecal_cluster_deta 1.0\n",
      "ktf_ecal_cluster_dphi  -  preid_ktf_ecal_cluster_dphi -0.03857561664564001\n",
      "ktf_ecal_cluster_e3x3  -  preid_ktf_ecal_cluster_e3x3 1.0\n",
      "ktf_ecal_cluster_e5x5  -  preid_ktf_ecal_cluster_e5x5 1.0\n",
      "ktf_ecal_cluster_covEtaEta  -  preid_ktf_ecal_cluster_covEtaEta 1.0\n",
      "ktf_ecal_cluster_covEtaPhi  -  preid_ktf_ecal_cluster_covEtaPhi 1.0\n",
      "ktf_ecal_cluster_covPhiPhi  -  preid_ktf_ecal_cluster_covPhiPhi 1.0\n",
      "ktf_ecal_cluster_r9  -  preid_ktf_ecal_cluster_r9 1.0\n",
      "ktf_ecal_cluster_circularity_  -  preid_ktf_ecal_cluster_circularity 1.0\n",
      "ktf_hcal_cluster_e  -  preid_ktf_hcal_cluster_e 1.0\n",
      "ktf_hcal_cluster_deta  -  preid_ktf_hcal_cluster_deta 1.0\n",
      "ktf_hcal_cluster_dphi  -  preid_ktf_hcal_cluster_dphi 0.03176881768794181\n",
      "preid_gsf_dpt  -  preid_gsf_dpt 1.0\n",
      "preid_trk_gsf_chiratio  -  preid_trk_gsf_chiratio 1.0\n",
      "preid_gsf_chi2red  -  preid_gsf_chi2red 1.0\n",
      "trk_dxy_sig  -  preid_trk_dxy_sig 1.0\n"
     ]
    },
    {
     "name": "stderr",
     "output_type": "stream",
     "text": [
      "/cvmfs/cms.cern.ch/slc6_amd64_gcc700/external/py2-scipy/1.1.0/lib/python2.7/site-packages/scipy/stats/stats.py:3010: RuntimeWarning: invalid value encountered in double_scalars\n",
      "  r = r_num / r_den\n"
     ]
    }
   ],
   "source": [
    "for im, ic in itertools.izip_longest(biased_features, cmssw_feats, fillvalue='--'):\n",
    "    corr, _ = scipy.stats.pearsonr(data[im], data[ic])\n",
    "    print im, ' - ', ic, corr"
   ]
  },
  {
   "cell_type": "code",
   "execution_count": null,
   "metadata": {},
   "outputs": [],
   "source": [
    "consistency(data['trk_dxy_sig'], data['preid_trk_dxy_sig'], '%s__%s' % (im, ic), True, [[-5,5],[-5,5]])"
   ]
  },
  {
   "cell_type": "code",
   "execution_count": 22,
   "metadata": {},
   "outputs": [
    {
     "data": {
      "image/png": "[encoded data removed]",
      "text/plain": [
       "<matplotlib.figure.Figure at 0x7fe43339c850>"
      ]
     },
     "metadata": {},
     "output_type": "display_data"
    }
   ],
   "source": [
    "consistency(data.ktf_ecal_cluster_dphi, data.preid_ktf_ecal_cluster_dphi, '%s__%s' % (im, ic), True, None)"
   ]
  },
  {
   "cell_type": "code",
   "execution_count": null,
   "metadata": {},
   "outputs": [],
   "source": [
    "aa/bb"
   ]
  },
  {
   "cell_type": "code",
   "execution_count": null,
   "metadata": {},
   "outputs": [],
   "source": [
    "consistency(data['ktf_ecal_cluster_deta'], data['preid_ktf_ecal_cluster_deta'], '%s__%s' % (im, ic), True, None) #[[-1,1],[-1,1]])"
   ]
  },
  {
   "cell_type": "code",
   "execution_count": null,
   "metadata": {},
   "outputs": [],
   "source": [
    "consistency(data['ktf_ecal_cluster_dphi'], data['preid_ktf_ecal_cluster_dphi'], '%s__%s' % (im, ic), True, None)"
   ]
  },
  {
   "cell_type": "code",
   "execution_count": null,
   "metadata": {},
   "outputs": [],
   "source": [
    "consistency(data['ktf_ecal_cluster_r9'], data['preid_ktf_ecal_cluster_r9'], '%s__%s' % (im, ic), True, [[0,2],[0,2]])"
   ]
  },
  {
   "cell_type": "markdown",
   "metadata": {},
   "source": [
    "\n",
    "ktf_hcal_cluster_deta  -  preid_ktf_hcal_cluster_deta 0.9437973\n",
    "ktf_hcal_cluster_dphi  -  preid_ktf_hcal_cluster_dphi 0.03227410523313402"
   ]
  },
  {
   "cell_type": "code",
   "execution_count": null,
   "metadata": {},
   "outputs": [],
   "source": [
    "consistency(data['ktf_hcal_cluster_deta'], data['preid_ktf_hcal_cluster_deta'], '%s__%s' % (im, ic), True, [[-1,1],[-1,1]])"
   ]
  },
  {
   "cell_type": "code",
   "execution_count": null,
   "metadata": {},
   "outputs": [],
   "source": [
    "(data.preid_ktf_ecal_cluster_deta[data.ktf_ecal_cluster_deta < -40] == -1).all()\n"
   ]
  },
  {
   "cell_type": "code",
   "execution_count": null,
   "metadata": {},
   "outputs": [],
   "source": [
    "mask = (data.ktf_ecal_cluster_deta > -40)"
   ]
  },
  {
   "cell_type": "code",
   "execution_count": null,
   "metadata": {},
   "outputs": [],
   "source": [
    "((data.ktf_ecal_cluster_e[mask] - data.preid_ktf_ecal_cluster_e[mask])).max()\n"
   ]
  },
  {
   "cell_type": "code",
   "execution_count": null,
   "metadata": {},
   "outputs": [],
   "source": [
    "consistency(data['ktf_ecal_cluster_e'][mask], data['preid_ktf_ecal_cluster_e'][mask], '%s__%s', True, [[0,20],[0,20]])"
   ]
  },
  {
   "cell_type": "code",
   "execution_count": null,
   "metadata": {},
   "outputs": [],
   "source": [
    "mask2 = np.abs(data['ktf_ecal_cluster_e'][mask] - data['preid_ktf_ecal_cluster_e'][mask]) > 0.2"
   ]
  },
  {
   "cell_type": "code",
   "execution_count": null,
   "metadata": {},
   "outputs": [],
   "source": [
    "consistency(data['ktf_ecal_cluster_deta'][mask][mask2], data['preid_ktf_ecal_cluster_deta'][mask][mask2], '%s__%s' % (im, ic), True, None) #[[-1,1],[-1,1]])"
   ]
  },
  {
   "cell_type": "code",
   "execution_count": null,
   "metadata": {},
   "outputs": [],
   "source": [
    "np.abs(data['ktf_ecal_cluster_deta'][mask][mask2] - data['preid_ktf_ecal_cluster_deta'][mask][mask2]).max()"
   ]
  },
  {
   "cell_type": "code",
   "execution_count": null,
   "metadata": {},
   "outputs": [],
   "source": [
    "mask2 = np.abs(data['ktf_ecal_cluster_e'] - data['preid_ktf_ecal_cluster_e']) > 0.2"
   ]
  },
  {
   "cell_type": "code",
   "execution_count": null,
   "metadata": {},
   "outputs": [],
   "source": [
    "fmask = (mask & mask2)"
   ]
  },
  {
   "cell_type": "code",
   "execution_count": null,
   "metadata": {},
   "outputs": [],
   "source": [
    "np.abs(data['ktf_ecal_cluster_e'][fmask] - data['preid_ktf_ecal_cluster_e'][fmask]).min()"
   ]
  },
  {
   "cell_type": "code",
   "execution_count": null,
   "metadata": {},
   "outputs": [],
   "source": [
    "data[['run','lumi','evt']][fmask].to_csv('pick_electrons.list', header=False, index=False)"
   ]
  },
  {
   "cell_type": "code",
   "execution_count": null,
   "metadata": {},
   "outputs": [],
   "source": [
    "import uproot"
   ]
  },
  {
   "cell_type": "code",
   "execution_count": null,
   "metadata": {},
   "outputs": [],
   "source": [
    "infile = uproot.open('/afs/cern.ch/work/m/mverzett/RK10_2/src/LowPtElectrons/LowPtElectrons/run/full_test.root')\n",
    "raw = pd.DataFrame(infile['features/tree'].arrays(['run','lumi','evt','ktf_ecal_cluster_e','preid_ktf_ecal_cluster_e','ktf_ecal_cluster_deta', 'preid_ktf_ecal_cluster_deta']))"
   ]
  },
  {
   "cell_type": "code",
   "execution_count": null,
   "metadata": {},
   "outputs": [],
   "source": [
    "raw[raw.evt == 447755850][['ktf_ecal_cluster_e','preid_ktf_ecal_cluster_e']]"
   ]
  },
  {
   "cell_type": "code",
   "execution_count": null,
   "metadata": {},
   "outputs": [],
   "source": [
    "infile2 = uproot.open('/afs/cern.ch/work/m/mverzett/RK10_2/src/LowPtElectrons/LowPtElectrons/run/track_features.root')\n",
    "raw2 = pd.DataFrame(infile2['features/tree'].arrays(['run','lumi','evt','ktf_ecal_cluster_e','preid_ktf_ecal_cluster_e','ktf_ecal_cluster_deta', 'preid_ktf_ecal_cluster_deta']))"
   ]
  },
  {
   "cell_type": "code",
   "execution_count": null,
   "metadata": {},
   "outputs": [],
   "source": [
    "raw2[raw2.evt == 447755850][['ktf_ecal_cluster_e','preid_ktf_ecal_cluster_e']]"
   ]
  },
  {
   "cell_type": "code",
   "execution_count": null,
   "metadata": {},
   "outputs": [],
   "source": []
  },
  {
   "cell_type": "code",
   "execution_count": null,
   "metadata": {},
   "outputs": [],
   "source": [
    "for im, ic in itertools.izip_longest(biased_features, cmssw_feats, fillvalue='--'):\n",
    "    corr, _ = scipy.stats.pearsonr(data[im], data[ic])\n",
    "    print im, ' - ', ic, corr"
   ]
  },
  {
   "cell_type": "code",
   "execution_count": null,
   "metadata": {},
   "outputs": [],
   "source": [
    "bad = data['trk_nhits'] != data['preid_trk_nhits']\n",
    "data['trk_nhits'][bad], data['preid_trk_nhits'][bad]"
   ]
  },
  {
   "cell_type": "code",
   "execution_count": null,
   "metadata": {},
   "outputs": [],
   "source": [
    "bad.any()"
   ]
  },
  {
   "cell_type": "markdown",
   "metadata": {},
   "source": [
    "MVA ID\n",
    "=="
   ]
  },
  {
   "cell_type": "code",
   "execution_count": 5,
   "metadata": {},
   "outputs": [],
   "source": [
    "mva_feats, additional = get_features('mva_id')"
   ]
  },
  {
   "cell_type": "code",
   "execution_count": 6,
   "metadata": {},
   "outputs": [],
   "source": [
    "cmssw_mva_feats = [\n",
    "    'eid_trk_p',\n",
    "    'eid_trk_nhits',\n",
    "   'eid_trk_chi2red',\n",
    "   'eid_gsf_nhits',\n",
    "   'eid_gsf_chi2red',\n",
    "   'eid_sc_E',\n",
    "   'eid_sc_eta',\n",
    "   'eid_sc_etaWidth',\n",
    "   'eid_sc_phiWidth',\n",
    "   'eid_match_seed_dEta',\n",
    "   'eid_match_eclu_EoverP',\n",
    "   'eid_match_SC_EoverP',\n",
    "   'eid_match_SC_dEta',\n",
    "   'eid_match_SC_dPhi',\n",
    "   'eid_shape_full5x5_sigmaIetaIeta',\n",
    "   'eid_shape_full5x5_sigmaIphiIphi',\n",
    "   'eid_shape_full5x5_HoverE',\n",
    "   'eid_shape_full5x5_r9',\n",
    "   'eid_shape_full5x5_circularity' ,\n",
    "   'eid_rho' ,\n",
    "   'eid_brem_frac' ,\n",
    "   'eid_ele_pt' ,\n",
    "]"
   ]
  },
  {
   "cell_type": "code",
   "execution_count": 7,
   "metadata": {},
   "outputs": [
    {
     "name": "stdout",
     "output_type": "stream",
     "text": [
      "getting files: \n",
      "/afs/cern.ch/work/m/mverzett/RK102v2/src/LowPtElectrons/LowPtElectrons/run/test.root\n"
     ]
    },
    {
     "name": "stderr",
     "output_type": "stream",
     "text": [
      "/cvmfs/cms.cern.ch/slc6_amd64_gcc700/external/py2-scikit-learn/0.19.1/lib/python2.7/site-packages/sklearn/base.py:311: UserWarning: Trying to unpickle estimator MiniBatchKMeans from version 0.18.1 when using version 0.19.1. This might lead to breaking code or invalid results. Use at your own risk.\n",
      "  UserWarning)\n"
     ]
    }
   ],
   "source": [
    "feats = set(mva_feats+additional+cmssw_mva_feats+labeling+['ele_lowPtMva','run','lumi','evt'])\n",
    "datasets.input_files['test'] = ['/afs/cern.ch/work/m/mverzett/RK102v2/src/LowPtElectrons/LowPtElectrons/run/test.root']\n",
    "data = datasets.pre_process_data('test', list(feats), False)\n",
    "\n"
   ]
  },
  {
   "cell_type": "code",
   "execution_count": 10,
   "metadata": {},
   "outputs": [],
   "source": [
    "id_model = joblib.load('models/2018Oct05/bdt_bo_mva_id/model_53.pkl')\n",
    "id_model.booster = lambda : id_model._Booster"
   ]
  },
  {
   "cell_type": "code",
   "execution_count": 11,
   "metadata": {},
   "outputs": [
    {
     "name": "stdout",
     "output_type": "stream",
     "text": [
      "False\n"
     ]
    }
   ],
   "source": [
    "mva_id_out = id_model.predict_proba(data[mva_feats].values)[:,1]\n",
    "#biased_out[np.isnan(biased_out)] = -999 #happens rarely, but happens\n",
    "print np.isnan(mva_id_out).any()"
   ]
  },
  {
   "cell_type": "code",
   "execution_count": 12,
   "metadata": {},
   "outputs": [],
   "source": [
    "mask = data.ele_pt > 1"
   ]
  },
  {
   "cell_type": "code",
   "execution_count": 13,
   "metadata": {},
   "outputs": [
    {
     "data": {
      "image/png": "[encoded data removed]",
      "text/plain": [
       "<matplotlib.figure.Figure at 0x7fa746374810>"
      ]
     },
     "metadata": {},
     "output_type": "display_data"
    },
    {
     "data": {
      "image/png": "[encoded data removed]",
      "text/plain": [
       "<matplotlib.figure.Figure at 0x7fa7463b1050>"
      ]
     },
     "metadata": {},
     "output_type": "display_data"
    },
    {
     "data": {
      "image/png": "[encoded data removed]",
      "text/plain": [
       "<matplotlib.figure.Figure at 0x7fa77c49f210>"
      ]
     },
     "metadata": {},
     "output_type": "display_data"
    }
   ],
   "source": [
    "consistency(mva_id_out[mask], data.ele_lowPtMva[mask], \"\", twod_only=False, vrange=[[-10, 10], [-10, 10]])"
   ]
  },
  {
   "cell_type": "code",
   "execution_count": 14,
   "metadata": {},
   "outputs": [
    {
     "data": {
      "text/plain": [
       "3"
      ]
     },
     "execution_count": 14,
     "metadata": {},
     "output_type": "execute_result"
    }
   ],
   "source": [
    "mask.sum()"
   ]
  },
  {
   "cell_type": "code",
   "execution_count": 15,
   "metadata": {},
   "outputs": [
    {
     "data": {
      "text/plain": [
       "(-1.268836, 4.744253)"
      ]
     },
     "execution_count": 15,
     "metadata": {},
     "output_type": "execute_result"
    }
   ],
   "source": [
    "mva_id_out[mask].min(), mva_id_out[mask].max()"
   ]
  },
  {
   "cell_type": "code",
   "execution_count": 16,
   "metadata": {},
   "outputs": [
    {
     "data": {
      "text/plain": [
       "(-2.0233195, -1.0552367)"
      ]
     },
     "execution_count": 16,
     "metadata": {},
     "output_type": "execute_result"
    }
   ],
   "source": [
    "data.ele_lowPtMva[mask].min(), data.ele_lowPtMva[mask].max()"
   ]
  },
  {
   "cell_type": "code",
   "execution_count": 17,
   "metadata": {},
   "outputs": [
    {
     "ename": "KeyError",
     "evalue": "'ktf_ecal_cluster_dphi'",
     "output_type": "error",
     "traceback": [
      "\u001b[0;31m\u001b[0m",
      "\u001b[0;31mKeyError\u001b[0mTraceback (most recent call last)",
      "\u001b[0;32m<ipython-input-17-6e026e27df78>\u001b[0m in \u001b[0;36m<module>\u001b[0;34m()\u001b[0m\n\u001b[0;32m----> 1\u001b[0;31m \u001b[0mdata\u001b[0m\u001b[0;34m[\u001b[0m\u001b[0;34m'ktf_ecal_cluster_dphi'\u001b[0m\u001b[0;34m]\u001b[0m\u001b[0;34m.\u001b[0m\u001b[0mmax\u001b[0m\u001b[0;34m(\u001b[0m\u001b[0;34m)\u001b[0m\u001b[0;34m,\u001b[0m \u001b[0mdata\u001b[0m\u001b[0;34m[\u001b[0m\u001b[0;34m'preid_ktf_ecal_cluster_dphi'\u001b[0m\u001b[0;34m]\u001b[0m\u001b[0;34m.\u001b[0m\u001b[0mmax\u001b[0m\u001b[0;34m(\u001b[0m\u001b[0;34m)\u001b[0m\u001b[0;34m\u001b[0m\u001b[0m\n\u001b[0m",
      "\u001b[0;32m/cvmfs/cms.cern.ch/slc6_amd64_gcc700/external/py2-pandas/0.23.0/lib/python2.7/site-packages/pandas/core/frame.pyc\u001b[0m in \u001b[0;36m__getitem__\u001b[0;34m(self, key)\u001b[0m\n\u001b[1;32m   2683\u001b[0m             \u001b[0;32mreturn\u001b[0m \u001b[0mself\u001b[0m\u001b[0;34m.\u001b[0m\u001b[0m_getitem_multilevel\u001b[0m\u001b[0;34m(\u001b[0m\u001b[0mkey\u001b[0m\u001b[0;34m)\u001b[0m\u001b[0;34m\u001b[0m\u001b[0m\n\u001b[1;32m   2684\u001b[0m         \u001b[0;32melse\u001b[0m\u001b[0;34m:\u001b[0m\u001b[0;34m\u001b[0m\u001b[0m\n\u001b[0;32m-> 2685\u001b[0;31m             \u001b[0;32mreturn\u001b[0m \u001b[0mself\u001b[0m\u001b[0;34m.\u001b[0m\u001b[0m_getitem_column\u001b[0m\u001b[0;34m(\u001b[0m\u001b[0mkey\u001b[0m\u001b[0;34m)\u001b[0m\u001b[0;34m\u001b[0m\u001b[0m\n\u001b[0m\u001b[1;32m   2686\u001b[0m \u001b[0;34m\u001b[0m\u001b[0m\n\u001b[1;32m   2687\u001b[0m     \u001b[0;32mdef\u001b[0m \u001b[0m_getitem_column\u001b[0m\u001b[0;34m(\u001b[0m\u001b[0mself\u001b[0m\u001b[0;34m,\u001b[0m \u001b[0mkey\u001b[0m\u001b[0;34m)\u001b[0m\u001b[0;34m:\u001b[0m\u001b[0;34m\u001b[0m\u001b[0m\n",
      "\u001b[0;32m/cvmfs/cms.cern.ch/slc6_amd64_gcc700/external/py2-pandas/0.23.0/lib/python2.7/site-packages/pandas/core/frame.pyc\u001b[0m in \u001b[0;36m_getitem_column\u001b[0;34m(self, key)\u001b[0m\n\u001b[1;32m   2690\u001b[0m         \u001b[0;31m# get column\u001b[0m\u001b[0;34m\u001b[0m\u001b[0;34m\u001b[0m\u001b[0m\n\u001b[1;32m   2691\u001b[0m         \u001b[0;32mif\u001b[0m \u001b[0mself\u001b[0m\u001b[0;34m.\u001b[0m\u001b[0mcolumns\u001b[0m\u001b[0;34m.\u001b[0m\u001b[0mis_unique\u001b[0m\u001b[0;34m:\u001b[0m\u001b[0;34m\u001b[0m\u001b[0m\n\u001b[0;32m-> 2692\u001b[0;31m             \u001b[0;32mreturn\u001b[0m \u001b[0mself\u001b[0m\u001b[0;34m.\u001b[0m\u001b[0m_get_item_cache\u001b[0m\u001b[0;34m(\u001b[0m\u001b[0mkey\u001b[0m\u001b[0;34m)\u001b[0m\u001b[0;34m\u001b[0m\u001b[0m\n\u001b[0m\u001b[1;32m   2693\u001b[0m \u001b[0;34m\u001b[0m\u001b[0m\n\u001b[1;32m   2694\u001b[0m         \u001b[0;31m# duplicate columns & possible reduce dimensionality\u001b[0m\u001b[0;34m\u001b[0m\u001b[0;34m\u001b[0m\u001b[0m\n",
      "\u001b[0;32m/cvmfs/cms.cern.ch/slc6_amd64_gcc700/external/py2-pandas/0.23.0/lib/python2.7/site-packages/pandas/core/generic.pyc\u001b[0m in \u001b[0;36m_get_item_cache\u001b[0;34m(self, item)\u001b[0m\n\u001b[1;32m   2484\u001b[0m         \u001b[0mres\u001b[0m \u001b[0;34m=\u001b[0m \u001b[0mcache\u001b[0m\u001b[0;34m.\u001b[0m\u001b[0mget\u001b[0m\u001b[0;34m(\u001b[0m\u001b[0mitem\u001b[0m\u001b[0;34m)\u001b[0m\u001b[0;34m\u001b[0m\u001b[0m\n\u001b[1;32m   2485\u001b[0m         \u001b[0;32mif\u001b[0m \u001b[0mres\u001b[0m \u001b[0;32mis\u001b[0m \u001b[0mNone\u001b[0m\u001b[0;34m:\u001b[0m\u001b[0;34m\u001b[0m\u001b[0m\n\u001b[0;32m-> 2486\u001b[0;31m             \u001b[0mvalues\u001b[0m \u001b[0;34m=\u001b[0m \u001b[0mself\u001b[0m\u001b[0;34m.\u001b[0m\u001b[0m_data\u001b[0m\u001b[0;34m.\u001b[0m\u001b[0mget\u001b[0m\u001b[0;34m(\u001b[0m\u001b[0mitem\u001b[0m\u001b[0;34m)\u001b[0m\u001b[0;34m\u001b[0m\u001b[0m\n\u001b[0m\u001b[1;32m   2487\u001b[0m             \u001b[0mres\u001b[0m \u001b[0;34m=\u001b[0m \u001b[0mself\u001b[0m\u001b[0;34m.\u001b[0m\u001b[0m_box_item_values\u001b[0m\u001b[0;34m(\u001b[0m\u001b[0mitem\u001b[0m\u001b[0;34m,\u001b[0m \u001b[0mvalues\u001b[0m\u001b[0;34m)\u001b[0m\u001b[0;34m\u001b[0m\u001b[0m\n\u001b[1;32m   2488\u001b[0m             \u001b[0mcache\u001b[0m\u001b[0;34m[\u001b[0m\u001b[0mitem\u001b[0m\u001b[0;34m]\u001b[0m \u001b[0;34m=\u001b[0m \u001b[0mres\u001b[0m\u001b[0;34m\u001b[0m\u001b[0m\n",
      "\u001b[0;32m/cvmfs/cms.cern.ch/slc6_amd64_gcc700/external/py2-pandas/0.23.0/lib/python2.7/site-packages/pandas/core/internals.pyc\u001b[0m in \u001b[0;36mget\u001b[0;34m(self, item, fastpath)\u001b[0m\n\u001b[1;32m   4113\u001b[0m \u001b[0;34m\u001b[0m\u001b[0m\n\u001b[1;32m   4114\u001b[0m             \u001b[0;32mif\u001b[0m \u001b[0;32mnot\u001b[0m \u001b[0misna\u001b[0m\u001b[0;34m(\u001b[0m\u001b[0mitem\u001b[0m\u001b[0;34m)\u001b[0m\u001b[0;34m:\u001b[0m\u001b[0;34m\u001b[0m\u001b[0m\n\u001b[0;32m-> 4115\u001b[0;31m                 \u001b[0mloc\u001b[0m \u001b[0;34m=\u001b[0m \u001b[0mself\u001b[0m\u001b[0;34m.\u001b[0m\u001b[0mitems\u001b[0m\u001b[0;34m.\u001b[0m\u001b[0mget_loc\u001b[0m\u001b[0;34m(\u001b[0m\u001b[0mitem\u001b[0m\u001b[0;34m)\u001b[0m\u001b[0;34m\u001b[0m\u001b[0m\n\u001b[0m\u001b[1;32m   4116\u001b[0m             \u001b[0;32melse\u001b[0m\u001b[0;34m:\u001b[0m\u001b[0;34m\u001b[0m\u001b[0m\n\u001b[1;32m   4117\u001b[0m                 \u001b[0mindexer\u001b[0m \u001b[0;34m=\u001b[0m \u001b[0mnp\u001b[0m\u001b[0;34m.\u001b[0m\u001b[0marange\u001b[0m\u001b[0;34m(\u001b[0m\u001b[0mlen\u001b[0m\u001b[0;34m(\u001b[0m\u001b[0mself\u001b[0m\u001b[0;34m.\u001b[0m\u001b[0mitems\u001b[0m\u001b[0;34m)\u001b[0m\u001b[0;34m)\u001b[0m\u001b[0;34m[\u001b[0m\u001b[0misna\u001b[0m\u001b[0;34m(\u001b[0m\u001b[0mself\u001b[0m\u001b[0;34m.\u001b[0m\u001b[0mitems\u001b[0m\u001b[0;34m)\u001b[0m\u001b[0;34m]\u001b[0m\u001b[0;34m\u001b[0m\u001b[0m\n",
      "\u001b[0;32m/cvmfs/cms.cern.ch/slc6_amd64_gcc700/external/py2-pandas/0.23.0/lib/python2.7/site-packages/pandas/core/indexes/base.pyc\u001b[0m in \u001b[0;36mget_loc\u001b[0;34m(self, key, method, tolerance)\u001b[0m\n\u001b[1;32m   3063\u001b[0m                 \u001b[0;32mreturn\u001b[0m \u001b[0mself\u001b[0m\u001b[0;34m.\u001b[0m\u001b[0m_engine\u001b[0m\u001b[0;34m.\u001b[0m\u001b[0mget_loc\u001b[0m\u001b[0;34m(\u001b[0m\u001b[0mkey\u001b[0m\u001b[0;34m)\u001b[0m\u001b[0;34m\u001b[0m\u001b[0m\n\u001b[1;32m   3064\u001b[0m             \u001b[0;32mexcept\u001b[0m \u001b[0mKeyError\u001b[0m\u001b[0;34m:\u001b[0m\u001b[0;34m\u001b[0m\u001b[0m\n\u001b[0;32m-> 3065\u001b[0;31m                 \u001b[0;32mreturn\u001b[0m \u001b[0mself\u001b[0m\u001b[0;34m.\u001b[0m\u001b[0m_engine\u001b[0m\u001b[0;34m.\u001b[0m\u001b[0mget_loc\u001b[0m\u001b[0;34m(\u001b[0m\u001b[0mself\u001b[0m\u001b[0;34m.\u001b[0m\u001b[0m_maybe_cast_indexer\u001b[0m\u001b[0;34m(\u001b[0m\u001b[0mkey\u001b[0m\u001b[0;34m)\u001b[0m\u001b[0;34m)\u001b[0m\u001b[0;34m\u001b[0m\u001b[0m\n\u001b[0m\u001b[1;32m   3066\u001b[0m \u001b[0;34m\u001b[0m\u001b[0m\n\u001b[1;32m   3067\u001b[0m         \u001b[0mindexer\u001b[0m \u001b[0;34m=\u001b[0m \u001b[0mself\u001b[0m\u001b[0;34m.\u001b[0m\u001b[0mget_indexer\u001b[0m\u001b[0;34m(\u001b[0m\u001b[0;34m[\u001b[0m\u001b[0mkey\u001b[0m\u001b[0;34m]\u001b[0m\u001b[0;34m,\u001b[0m \u001b[0mmethod\u001b[0m\u001b[0;34m=\u001b[0m\u001b[0mmethod\u001b[0m\u001b[0;34m,\u001b[0m \u001b[0mtolerance\u001b[0m\u001b[0;34m=\u001b[0m\u001b[0mtolerance\u001b[0m\u001b[0;34m)\u001b[0m\u001b[0;34m\u001b[0m\u001b[0m\n",
      "\u001b[0;32mpandas/_libs/index.pyx\u001b[0m in \u001b[0;36mpandas._libs.index.IndexEngine.get_loc\u001b[0;34m()\u001b[0m\n",
      "\u001b[0;32mpandas/_libs/index.pyx\u001b[0m in \u001b[0;36mpandas._libs.index.IndexEngine.get_loc\u001b[0;34m()\u001b[0m\n",
      "\u001b[0;32mpandas/_libs/hashtable_class_helper.pxi\u001b[0m in \u001b[0;36mpandas._libs.hashtable.PyObjectHashTable.get_item\u001b[0;34m()\u001b[0m\n",
      "\u001b[0;32mpandas/_libs/hashtable_class_helper.pxi\u001b[0m in \u001b[0;36mpandas._libs.hashtable.PyObjectHashTable.get_item\u001b[0;34m()\u001b[0m\n",
      "\u001b[0;31mKeyError\u001b[0m: 'ktf_ecal_cluster_dphi'"
     ]
    }
   ],
   "source": [
    "data['ktf_ecal_cluster_dphi'].max(), data['preid_ktf_ecal_cluster_dphi'].max()"
   ]
  },
  {
   "cell_type": "code",
   "execution_count": null,
   "metadata": {},
   "outputs": [],
   "source": []
  },
  {
   "cell_type": "code",
   "execution_count": 14,
   "metadata": {},
   "outputs": [
    {
     "name": "stdout",
     "output_type": "stream",
     "text": [
      "rho  -  eid_trk_p -0.37192464\n",
      "ele_pt  -  eid_trk_nhits -0.9291431\n",
      "sc_eta  -  eid_trk_chi2red 0.910046\n",
      "shape_full5x5_sigmaIetaIeta  -  eid_gsf_nhits -0.55496854\n",
      "shape_full5x5_sigmaIphiIphi  -  eid_gsf_chi2red 0.96367913\n",
      "shape_full5x5_circularity  -  eid_sc_E 0.04166129\n",
      "shape_full5x5_r9  -  eid_sc_eta 0.1610032\n",
      "sc_etaWidth  -  eid_sc_etaWidth 1.0\n",
      "sc_phiWidth  -  eid_sc_phiWidth 1.0\n",
      "shape_full5x5_HoverE  -  eid_match_seed_dEta 0.30974886\n",
      "trk_nhits  -  eid_match_eclu_EoverP -0.24298141954835348\n",
      "trk_chi2red  -  eid_match_SC_EoverP -0.28876495\n",
      "gsf_chi2red  -  eid_match_SC_dEta 0.34571746\n",
      "brem_frac  -  eid_match_SC_dPhi -0.051743917\n",
      "gsf_nhits  -  eid_shape_full5x5_sigmaIetaIeta -0.5549685126075781\n",
      "match_SC_EoverP  -  eid_shape_full5x5_sigmaIphiIphi 0.5444921\n",
      "match_eclu_EoverP  -  eid_shape_full5x5_HoverE -0.7185807\n",
      "match_SC_dEta  -  eid_shape_full5x5_r9 -0.9978552\n",
      "match_SC_dPhi  -  eid_shape_full5x5_circularity 0.6418875\n",
      "match_seed_dEta  -  eid_rho nan\n",
      "sc_E  -  eid_brem_frac 0.5675415\n",
      "trk_p  -  eid_ele_pt 0.28346753\n"
     ]
    },
    {
     "name": "stderr",
     "output_type": "stream",
     "text": [
      "/cvmfs/cms.cern.ch/slc6_amd64_gcc700/external/py2-scipy/1.1.0/lib/python2.7/site-packages/scipy/stats/stats.py:3010: RuntimeWarning: invalid value encountered in float_scalars\n",
      "  r = r_num / r_den\n"
     ]
    }
   ],
   "source": [
    "for im, ic in itertools.izip_longest(mva_feats, cmssw_mva_feats, fillvalue='--'):\n",
    "    corr, _ = scipy.stats.pearsonr(data[mask][im], data[mask][ic])\n",
    "    print im, ' - ', ic, corr"
   ]
  },
  {
   "cell_type": "code",
   "execution_count": null,
   "metadata": {},
   "outputs": [],
   "source": []
  }
 ],
 "metadata": {
  "kernelspec": {
   "display_name": "Python 2",
   "language": "python",
   "name": "python2"
  },
  "language_info": {
   "codemirror_mode": {
    "name": "ipython",
    "version": 2
   },
   "file_extension": ".py",
   "mimetype": "text/x-python",
   "name": "python",
   "nbconvert_exporter": "python",
   "pygments_lexer": "ipython2",
   "version": "2.7.14+"
  }
 },
 "nbformat": 4,
 "nbformat_minor": 2
}
