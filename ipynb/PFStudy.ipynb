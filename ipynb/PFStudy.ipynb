{
 "cells": [
  {
   "cell_type": "code",
   "execution_count": 14,
   "metadata": {
    "collapsed": false
   },
   "outputs": [],
   "source": [
    "import ROOT\n",
    "ROOT.PyConfig.IgnoreCommandLineOptions = True\n",
    "ROOT.gROOT.SetBatch(True)\n",
    "ROOT.gSystem.Load(\"libFWCoreFWLite.so\");\n",
    "ROOT.gSystem.Load(\"libDataFormatsFWLite.so\");\n",
    "ROOT.FWLiteEnabler.enable()"
   ]
  },
  {
   "cell_type": "code",
   "execution_count": 15,
   "metadata": {
    "collapsed": true
   },
   "outputs": [],
   "source": [
    "import sys\n",
    "from math import sqrt, cosh\n",
    "from DataFormats.FWLite import Handle, Events\n",
    "from PhysicsTools.HeppyCore.utils.deltar import deltaR, matchObjectCollection, matchObjectCollection3, bestMatch\n",
    "import numpy as np\n",
    "import pandas as pd"
   ]
  },
  {
   "cell_type": "code",
   "execution_count": 16,
   "metadata": {
    "collapsed": true
   },
   "outputs": [],
   "source": [
    "#helper functions\n",
    "def close_to(v1, ref):\n",
    "    return abs(v1 - ref) < 0.0005*abs(v1+ref) #1 per mil of scale\n",
    "\n",
    "def kin_close(obj, ref):\n",
    "    pt, eta, phi = ref\n",
    "    return close_to(obj.pt(), pt) and close_to(obj.eta(), eta) and close_to(obj.phi(), phi)\n",
    "\n",
    "def print_kin(obj):\n",
    "    print '%s[%f, %f, %f]' % (obj.__class__.__name__, obj.pt(), obj.eta(), obj.phi())\n",
    "    \n",
    "#copied from https://github.com/cms-sw/cmssw/blob/master/RecoParticleFlow/PFTracking/src/PFTrackAlgoTools.cc#L170\n",
    "not_fifth = {\n",
    "    'ctf', 'duplicateMerge', 'initialStep', 'highPtTripletStep', 'lowPtQuadStep', 'lowPtTripletStep', 'pixelPairStep',\n",
    "    'jetCoreRegionalStep', 'detachedQuadStep', 'detachedTripletStep', 'mixedTripletStep', 'pixelLessStep', \n",
    "    'muonSeededStepInOut', 'muonSeededStepOutIn', 'hltIter0', 'hltIter1', 'hltIter2', 'hltIter3', 'hltIter4', \n",
    "    'hltIterX',\n",
    "}\n",
    "def is_fifth_step(algo):\n",
    "    return (TrkAlgos[algo] not in not_fifth)"
   ]
  },
  {
   "cell_type": "code",
   "execution_count": 17,
   "metadata": {
    "collapsed": true
   },
   "outputs": [],
   "source": [
    "htrk = Handle(\"std::vector<reco::Track>\")\n",
    "hvtx = Handle(\"std::vector<reco::Vertex>\")\n",
    "hpf = Handle(\"std::vector<reco::PFCandidate>\")\n",
    "hpfb = Handle(\"std::vector<reco::PFBlock>\")\n",
    "hgsfe = Handle(\"std::vector<reco::GsfElectron>\")\n",
    "hpf_ele_trk = Handle('vector<reco::GsfPFRecTrack>')\n",
    "#hmu   = Handle(\"std::vector<reco::Muon>\")\n",
    "hpfc = Handle(\"std::vector<reco::PFCluster>\")\n",
    "#hcalt = Handle(\"edm::SortedCollection<CaloTower,edm::StrictWeakOrdering<CaloTower> >\")\n",
    "genp  = Handle(\"std::vector<reco::GenParticle>\")\n",
    "hgsf_trk = Handle('vector<reco::GsfTrack>')"
   ]
  },
  {
   "cell_type": "code",
   "execution_count": 18,
   "metadata": {
    "collapsed": true
   },
   "outputs": [],
   "source": [
    "h_pf_trk = Handle('vector<reco::PFRecTrack>')\n"
   ]
  },
  {
   "cell_type": "code",
   "execution_count": 19,
   "metadata": {
    "collapsed": true
   },
   "outputs": [],
   "source": [
    "PFTypes = {}\n",
    "for tn in \"NONE TRACK PS1 PS2 ECAL HCAL GSF BREM HFEM HFHAD SC HO HGCAL kNBETypes\".split():\n",
    "    PFTypes[tn] = getattr(ROOT.reco.PFBlockElement, tn)\n",
    "    PFTypes[PFTypes[tn]] = tn\n",
    "    \n",
    "TrkAlgos = {}\n",
    "for al in ('undefAlgorithm ctf duplicateMerge cosmics initialStep lowPtTripletStep pixelPairStep '\n",
    "           'detachedTripletStep mixedTripletStep pixelLessStep tobTecStep jetCoreRegionalStep '\n",
    "           'conversionStep muonSeededStepInOut muonSeededStepOutIn outInEcalSeededConv inOutEcalSeededConv '\n",
    "           'nuclInter standAloneMuon globalMuon cosmicStandAloneMuon cosmicGlobalMuon highPtTripletStep lowPtQuadStep '\n",
    "           'detachedQuadStep reservedForUpgrades1 reservedForUpgrades2 bTagGhostTracks beamhalo gsf hltPixel hltIter0 '\n",
    "           'hltIter1 hltIter2 hltIter3 hltIter4 hltIterX hiRegitMuInitialStep hiRegitMuLowPtTripletStep '\n",
    "           'hiRegitMuPixelPairStep hiRegitMuDetachedTripletStep hiRegitMuMixedTripletStep hiRegitMuPixelLessStep '\n",
    "           'hiRegitMuTobTecStep hiRegitMuMuonSeededStepInOut hiRegitMuMuonSeededStepOutIn algoSize').split():\n",
    "        TrkAlgos[al] = getattr(ROOT.reco.TrackBase, al)\n",
    "        TrkAlgos[TrkAlgos[al]] = al"
   ]
  },
  {
   "cell_type": "code",
   "execution_count": 20,
   "metadata": {
    "collapsed": false
   },
   "outputs": [],
   "source": [
    "events = Events('EDOutput.root')\n",
    "iterator = events.__iter__()"
   ]
  },
  {
   "cell_type": "code",
   "execution_count": 21,
   "metadata": {
    "collapsed": false
   },
   "outputs": [],
   "source": [
    "\n",
    "#copied from the ntuple\n",
    "gsf_pt_eta_phi = {}\n",
    "\n",
    "#with PFGSF, but no PFEgamma\n",
    "wPFGSF_No_PFEG = {60624397: (3.2524049282073975, 0.37861114740371704, -2.5944802761077881), 59624562: (1.3961746692657471, -1.7653611898422241, 0.35166314244270325), 61035956: (1.3295170068740845, -0.74432915449142456, -0.89448297023773193), 56535285: (2.057009220123291, -0.78594261407852173, -2.8598525524139404), 59274487: (1.2078419923782349, -0.71046125888824463, 1.0331467390060425), 61399352: (1.9714157581329346, -1.4073941707611084, 1.7577246427536011), 60333114: (1.0912861824035645, -0.87859433889389038, -2.2439939975738525), 61752053: (1.9641132354736328, -1.4127223491668701, 2.0960731506347656)}\n",
    "wGSFTrk_No_PFGSF = {59472208: (4.6232380867004395, -0.65895694494247437, -0.25869864225387573), 60321251: (1.1779265403747559, 0.82428324222564697, 1.5455923080444336), 61381254: (4.7505941390991211, 0.25948464870452881, -2.0914435386657715), 58402401: (1.7245339155197144, 0.44584566354751587, -1.5300849676132202), 57817001: (9.2789793014526367, 2.2519600391387939, 0.67897021770477295), 61743594: (9.8303279876708984, 0.39349210262298584, 2.9180049896240234), 58865712: (2.4383711814880371, -1.5381476879119873, 3.0827889442443848), 61785330: (1.6721429824829102, -0.74857711791992188, -1.1605315208435059), 57160055: (2.4560666084289551, 0.96155643463134766, -2.9944767951965332), 61091548: (17.432041168212891, -0.23632617294788361, 2.0985651016235352), 31949309: (3.1733708381652832, 1.6469196081161499, -1.1084054708480835)}\n"
   ]
  },
  {
   "cell_type": "code",
   "execution_count": 22,
   "metadata": {
    "collapsed": false
   },
   "outputs": [
    {
     "name": "stdout",
     "output_type": "stream",
     "text": [
      "1:106498:31949309\n",
      "HAS GSFTrack, no PFGSF\n"
     ]
    }
   ],
   "source": [
    "evt = iterator.next()\n",
    "run, lumi, evtno = evt.eventAuxiliary().run(), evt.eventAuxiliary().luminosityBlock(), evt.eventAuxiliary().event()\n",
    "print ':'.join([str(i) for i in [run, lumi, evtno]])\n",
    "if evtno in wPFGSF_No_PFEG:\n",
    "    print 'HAS PFGSF, no PF EGamma'\n",
    "    gsf_pt, gsf_eta, gsf_phi = wPFGSF_No_PFEG[evtno]\n",
    "elif evtno in wGSFTrk_No_PFGSF:\n",
    "    print 'HAS GSFTrack, no PFGSF'\n",
    "    gsf_pt, gsf_eta, gsf_phi = wGSFTrk_No_PFGSF[evtno]"
   ]
  },
  {
   "cell_type": "markdown",
   "metadata": {},
   "source": [
    "## GSF Matching and PFRecGSFTrack Matching\n",
    "Find the GSF track and its index, might come handy"
   ]
  },
  {
   "cell_type": "code",
   "execution_count": 23,
   "metadata": {
    "collapsed": false
   },
   "outputs": [
    {
     "name": "stdout",
     "output_type": "stream",
     "text": [
      "MATCHED!\n"
     ]
    }
   ],
   "source": [
    "evt.getByLabel('electronGsfTracks', hgsf_trk)\n",
    "gsf_tracks = hgsf_trk.product()\n",
    "matches = [kin_close(i, (gsf_pt, gsf_eta, gsf_phi)) for i in gsf_tracks]\n",
    "if sum(matches) > 1: print 'MULTIPLE MATCHES!'\n",
    "elif sum(matches) == 0: print 'NO MATCH?!'\n",
    "else:\n",
    "    print 'MATCHED!'\n",
    "    gsf_idx = matches.index(1)\n",
    "    matched_gsf = gsf_tracks[gsf_idx]"
   ]
  },
  {
   "cell_type": "markdown",
   "metadata": {},
   "source": [
    "Check that there is a PFRecGSFTrack"
   ]
  },
  {
   "cell_type": "code",
   "execution_count": 24,
   "metadata": {
    "collapsed": false
   },
   "outputs": [
    {
     "name": "stdout",
     "output_type": "stream",
     "text": [
      "MATCH!\n"
     ]
    }
   ],
   "source": [
    "evt.getByLabel('pfTrackElec', hpf_ele_trk)\n",
    "pf_gsf_tracks = hpf_ele_trk.product()\n",
    "gsf_indexes = [i.gsfTrackRef().index() for i in pf_gsf_tracks]\n",
    "if gsf_idx in gsf_indexes:\n",
    "    print 'MATCH!'\n",
    "    pf_gsf_idx = gsf_indexes.index(gsf_idx)\n",
    "    matched_pf_gsf = pf_gsf_tracks[pf_gsf_idx]\n",
    "else:\n",
    "    print 'NO MATCH!'"
   ]
  },
  {
   "cell_type": "markdown",
   "metadata": {},
   "source": [
    "#### PFRecGSFTrack Debugging"
   ]
  },
  {
   "cell_type": "code",
   "execution_count": 12,
   "metadata": {
    "collapsed": false
   },
   "outputs": [],
   "source": [
    "evt.getByLabel('pfTrack', h_pf_trk)\n",
    "pf_trks = h_pf_trk.product()"
   ]
  },
  {
   "cell_type": "markdown",
   "metadata": {},
   "source": [
    "Assumes that everything exists here"
   ]
  },
  {
   "cell_type": "code",
   "execution_count": 18,
   "metadata": {
    "collapsed": false
   },
   "outputs": [],
   "source": [
    "ele_seed = matched_gsf.seedRef().get()\n",
    "matched_pf_track = [i for i in pf_trks if i.trackRef() == ele_seed.ctfTrack()]"
   ]
  },
  {
   "cell_type": "code",
   "execution_count": 20,
   "metadata": {
    "collapsed": false
   },
   "outputs": [
    {
     "name": "stdout",
     "output_type": "stream",
     "text": [
      "MATCHED TO PFTrack\n"
     ]
    }
   ],
   "source": [
    "if matched_pf_track:\n",
    "    print 'MATCHED TO PFTrack'\n",
    "    matched_pf_track = matched_pf_track[0]\n",
    "else:\n",
    "    print 'NO MATCH'"
   ]
  },
  {
   "cell_type": "code",
   "execution_count": 26,
   "metadata": {
    "collapsed": false
   },
   "outputs": [
    {
     "name": "stdout",
     "output_type": "stream",
     "text": [
      "set(['TrakerDriven'])\n"
     ]
    }
   ],
   "source": [
    "track_attributes = set()\n",
    "if matched_gsf.seedRef().caloCluster().isNonnull():\n",
    "    track_attributes.add('ECALDriven')\n",
    "if matched_gsf.seedRef().ctfTrack().isNonnull():\n",
    "    track_attributes.add('TrakerDriven')\n",
    "if is_fifth_step(matched_pf_track.trackRef().algo()):\n",
    "    track_attributes.add('FifthStep')\n",
    "print track_attributes"
   ]
  },
  {
   "cell_type": "code",
   "execution_count": null,
   "metadata": {
    "collapsed": true
   },
   "outputs": [],
   "source": [
    "nPin = matched_gsf.pMode()\n",
    "neta = matched_gsf.innerMomentum().eta()\n",
    "nphi = matched_gsf.innerMomentum().phi()\n",
    "\n",
    "all_Pin = [i.pMode() for i in gsf_tracks]\n",
    "all_eta = [i.pMode() for i in gsf_tracks]\n",
    "all_phi = [i.pMode() for i in gsf_tracks]\n",
    "\n",
    "all_Pin.pop(gsf_idx)\n",
    "all_eta.pop(gsf_idx)\n",
    "all_phi.pop(gsf_idx)\n",
    "\n",
    "all_Pin = np.array(all_Pin)\n",
    "all_eta = np.array(all_eta)\n",
    "all_phi = np.array(all_phi)\n",
    "\n",
    "delta_eta = neta - all_eta\n",
    "delta_phi = nphi - all_phi"
   ]
  },
  {
   "cell_type": "code",
   "execution_count": 26,
   "metadata": {
    "collapsed": true
   },
   "outputs": [],
   "source": [
    "evt.getByLabel('particleFlowClusterECAL', hpfc)\n",
    "pf_clusters = hpfc.product()"
   ]
  },
  {
   "cell_type": "code",
   "execution_count": 28,
   "metadata": {
    "collapsed": false
   },
   "outputs": [
    {
     "name": "stdout",
     "output_type": "stream",
     "text": [
      "GsfTrack[3.173371, 1.646920, -1.108405]\n",
      "GsfTrack[3.173371, 1.646920, -1.108405]\n",
      "0.275696496951\n",
      "PFCluster[1.166230, 1.647960, -0.968813]\n",
      "PFCluster[0.654668, 2.139844, -0.419574]\n",
      "PFCluster[0.730601, 2.005828, -1.552286]\n",
      "PFCluster[0.412121, 1.871694, -0.995318]\n",
      "PFCluster[0.361261, 1.303286, -1.411212]\n",
      "PFCluster[0.225871, 1.218185, -0.459580]\n",
      "PFCluster[0.145714, 1.423141, -1.700597]\n",
      "PFCluster[0.271246, 1.354865, -1.812954]\n",
      "PFCluster[0.126335, 1.474612, -1.980674]\n",
      "PFCluster[0.124045, 1.355571, -0.183568]\n",
      "PFCluster[0.136011, 1.235496, -1.506889]\n",
      "PFCluster[0.108817, 1.475371, -1.718014]\n"
     ]
    }
   ],
   "source": [
    "[i.calculatePositionREP() for i in pf_clusters]\n",
    "close_clusters = [i for i in pf_clusters \n",
    "                  if abs(i.position().eta() - matched_gsf.eta()) < 0.5\n",
    "                  if abs(i.position().phi() - matched_gsf.phi()) < 1]\n",
    "print_kin(matched_gsf)\n",
    "print_kin(matched_pf_gsf.gsfTrackRef().get())\n",
    "print matched_gsf.outerPt()\n",
    "for i in close_clusters:\n",
    "    print_kin(i)"
   ]
  },
  {
   "cell_type": "code",
   "execution_count": 31,
   "metadata": {
    "collapsed": false
   },
   "outputs": [
    {
     "data": {
      "text/plain": [
       "(1.9897250368800312, -0.4586583776130577)"
      ]
     },
     "execution_count": 31,
     "metadata": {},
     "output_type": "execute_result"
    }
   ],
   "source": [
    "ECAL_position = matched_pf_gsf.extrapolatedPoint( ROOT.reco.PFTrajectoryPoint.ECALShowerMax )\n",
    "ECAL_position.positionREP().Eta(), ECAL_position.positionREP().Phi()"
   ]
  },
  {
   "cell_type": "code",
   "execution_count": null,
   "metadata": {
    "collapsed": true
   },
   "outputs": [],
   "source": []
  },
  {
   "cell_type": "code",
   "execution_count": null,
   "metadata": {
    "collapsed": true
   },
   "outputs": [],
   "source": []
  },
  {
   "cell_type": "code",
   "execution_count": null,
   "metadata": {
    "collapsed": true
   },
   "outputs": [],
   "source": []
  },
  {
   "cell_type": "code",
   "execution_count": null,
   "metadata": {
    "collapsed": true
   },
   "outputs": [],
   "source": []
  },
  {
   "cell_type": "code",
   "execution_count": null,
   "metadata": {
    "collapsed": true
   },
   "outputs": [],
   "source": []
  },
  {
   "cell_type": "code",
   "execution_count": null,
   "metadata": {
    "collapsed": true
   },
   "outputs": [],
   "source": []
  },
  {
   "cell_type": "code",
   "execution_count": null,
   "metadata": {
    "collapsed": true
   },
   "outputs": [],
   "source": []
  },
  {
   "cell_type": "code",
   "execution_count": 17,
   "metadata": {
    "collapsed": false
   },
   "outputs": [
    {
     "name": "stdout",
     "output_type": "stream",
     "text": [
      "GsfTrack[2.717000, 1.708730, -1.274414]\n",
      "0.703981300744\n",
      "PFCluster[1.166230, 1.647960, -0.968813]\n",
      "PFCluster[0.654668, 2.139844, -0.419574]\n",
      "PFCluster[0.730601, 2.005828, -1.552286]\n",
      "PFCluster[0.412121, 1.871694, -0.995318]\n",
      "PFCluster[0.361261, 1.303286, -1.411212]\n",
      "PFCluster[0.225871, 1.218185, -0.459580]\n",
      "PFCluster[0.145714, 1.423141, -1.700597]\n",
      "PFCluster[0.271246, 1.354865, -1.812954]\n",
      "PFCluster[0.126335, 1.474612, -1.980674]\n",
      "PFCluster[0.136011, 1.235496, -1.506889]\n",
      "PFCluster[0.108817, 1.475371, -1.718014]\n"
     ]
    }
   ],
   "source": [
    "other_gsf = [i for i in gsf_tracks if abs(i.pt() - 2.717) < 0.01][0]\n",
    "close_clusters = [i for i in pf_clusters \n",
    "                  if abs(i.position().eta() - other_gsf.eta()) < 0.5\n",
    "                  if abs(i.position().phi() - other_gsf.phi()) < 1]\n",
    "print_kin(other_gsf)\n",
    "print other_gsf.outerPt()\n",
    "for i in close_clusters:\n",
    "    print_kin(i)"
   ]
  },
  {
   "cell_type": "code",
   "execution_count": 67,
   "metadata": {
    "collapsed": false
   },
   "outputs": [
    {
     "data": {
      "text/plain": [
       "False"
      ]
     },
     "execution_count": 67,
     "metadata": {},
     "output_type": "execute_result"
    }
   ],
   "source": [
    "\n"
   ]
  },
  {
   "cell_type": "code",
   "execution_count": 68,
   "metadata": {
    "collapsed": true
   },
   "outputs": [],
   "source": [
    "evt.getByLabel('particleFlowBlock', hpfb)\n",
    "blocks = hpfb.product()"
   ]
  },
  {
   "cell_type": "code",
   "execution_count": 69,
   "metadata": {
    "collapsed": false
   },
   "outputs": [
    {
     "name": "stdout",
     "output_type": "stream",
     "text": [
      "MATCH!\n"
     ]
    }
   ],
   "source": [
    "matched_block = None\n",
    "matched_element = None\n",
    "for block in blocks:\n",
    "    for element in block.elements():\n",
    "        if element.type() != PFTypes['GSF']: continue\n",
    "        ref_idx = element.GsftrackRef().index()\n",
    "        if ref_idx == gsf_idx:\n",
    "            if matched_block is None:\n",
    "                print 'MATCH!'\n",
    "                matched_block = block\n",
    "                matched_element = element\n",
    "            else:\n",
    "                print 'MULTIPLE MATCHES!'"
   ]
  },
  {
   "cell_type": "code",
   "execution_count": 70,
   "metadata": {
    "collapsed": false
   },
   "outputs": [
    {
     "name": "stdout",
     "output_type": "stream",
     "text": [
      "BREM\n",
      "BREM\n",
      "BREM\n",
      "BREM\n",
      "BREM\n",
      "BREM\n",
      "BREM\n",
      "BREM\n",
      "BREM\n",
      "BREM\n",
      "BREM\n",
      "BREM\n",
      "BREM\n",
      "BREM\n",
      "BREM\n",
      "BREM\n",
      "GSF\n",
      "TRACK\n"
     ]
    },
    {
     "ename": "IndexError",
     "evalue": "list index out of range",
     "output_type": "error",
     "traceback": [
      "\u001b[0;31m\u001b[0m",
      "\u001b[0;31mIndexError\u001b[0mTraceback (most recent call last)",
      "\u001b[0;32m<ipython-input-70-197a37b6462c>\u001b[0m in \u001b[0;36m<module>\u001b[0;34m()\u001b[0m\n\u001b[1;32m      2\u001b[0m     \u001b[0;32mprint\u001b[0m \u001b[0mPFTypes\u001b[0m\u001b[0;34m[\u001b[0m\u001b[0mel\u001b[0m\u001b[0;34m.\u001b[0m\u001b[0mtype\u001b[0m\u001b[0;34m(\u001b[0m\u001b[0;34m)\u001b[0m\u001b[0;34m]\u001b[0m\u001b[0;34m\u001b[0m\u001b[0m\n\u001b[1;32m      3\u001b[0m \u001b[0;34m\u001b[0m\u001b[0m\n\u001b[0;32m----> 4\u001b[0;31m \u001b[0mecal\u001b[0m \u001b[0;34m=\u001b[0m \u001b[0;34m[\u001b[0m\u001b[0mi\u001b[0m \u001b[0;32mfor\u001b[0m \u001b[0mi\u001b[0m \u001b[0;32min\u001b[0m \u001b[0mmatched_block\u001b[0m\u001b[0;34m.\u001b[0m\u001b[0melements\u001b[0m\u001b[0;34m(\u001b[0m\u001b[0;34m)\u001b[0m \u001b[0;32mif\u001b[0m \u001b[0mi\u001b[0m\u001b[0;34m.\u001b[0m\u001b[0mtype\u001b[0m\u001b[0;34m(\u001b[0m\u001b[0;34m)\u001b[0m \u001b[0;34m==\u001b[0m \u001b[0mPFTypes\u001b[0m\u001b[0;34m[\u001b[0m\u001b[0;34m'ECAL'\u001b[0m\u001b[0;34m]\u001b[0m\u001b[0;34m]\u001b[0m\u001b[0;34m[\u001b[0m\u001b[0;36m0\u001b[0m\u001b[0;34m]\u001b[0m\u001b[0;34m\u001b[0m\u001b[0m\n\u001b[0m",
      "\u001b[0;31mIndexError\u001b[0m: list index out of range"
     ]
    }
   ],
   "source": [
    "for el in matched_block.elements():\n",
    "    print PFTypes[el.type()]\n",
    "\n",
    "ecal = [i for i in matched_block.elements() if i.type() == PFTypes['ECAL']][0]\n"
   ]
  },
  {
   "cell_type": "code",
   "execution_count": 56,
   "metadata": {
    "collapsed": false
   },
   "outputs": [
    {
     "name": "stdout",
     "output_type": "stream",
     "text": [
      "0.886527001858\n"
     ]
    },
    {
     "data": {
      "text/plain": [
       "2.372606438630701"
      ]
     },
     "execution_count": 56,
     "metadata": {},
     "output_type": "execute_result"
    }
   ],
   "source": [
    "print ecal.clusterRef().get().energy()\n",
    "matched_gsf.outerP()"
   ]
  },
  {
   "cell_type": "code",
   "execution_count": 57,
   "metadata": {
    "collapsed": false
   },
   "outputs": [
    {
     "data": {
      "text/plain": [
       "<ROOT.reco::PFBlockElementGsfTrack object at 0x13d10600>"
      ]
     },
     "execution_count": 57,
     "metadata": {},
     "output_type": "execute_result"
    }
   ],
   "source": [
    "matched_element"
   ]
  },
  {
   "cell_type": "code",
   "execution_count": null,
   "metadata": {
    "collapsed": true
   },
   "outputs": [],
   "source": []
  },
  {
   "cell_type": "code",
   "execution_count": 12,
   "metadata": {
    "collapsed": true
   },
   "outputs": [],
   "source": [
    "evt.getByLabel('particleFlowEGamma', hpf)\n",
    "pfeg = hpf.product()"
   ]
  },
  {
   "cell_type": "code",
   "execution_count": 13,
   "metadata": {
    "collapsed": false
   },
   "outputs": [],
   "source": [
    "pf_gsfs = [i for i in pfeg if not i.gsfTrackRef().isNull() and close_to(i.gsfTrackRef().pt(), gsf_pt)]"
   ]
  },
  {
   "cell_type": "code",
   "execution_count": 14,
   "metadata": {
    "collapsed": false
   },
   "outputs": [
    {
     "ename": "IndexError",
     "evalue": "list index out of range",
     "output_type": "error",
     "traceback": [
      "\u001b[0;31m\u001b[0m",
      "\u001b[0;31mIndexError\u001b[0mTraceback (most recent call last)",
      "\u001b[0;32m<ipython-input-14-943de9fc9f45>\u001b[0m in \u001b[0;36m<module>\u001b[0;34m()\u001b[0m\n\u001b[0;32m----> 1\u001b[0;31m \u001b[0mprint_kin\u001b[0m\u001b[0;34m(\u001b[0m\u001b[0mpf_gsfs\u001b[0m\u001b[0;34m[\u001b[0m\u001b[0;36m0\u001b[0m\u001b[0;34m]\u001b[0m\u001b[0;34m.\u001b[0m\u001b[0mgsfTrackRef\u001b[0m\u001b[0;34m(\u001b[0m\u001b[0;34m)\u001b[0m\u001b[0;34m.\u001b[0m\u001b[0mget\u001b[0m\u001b[0;34m(\u001b[0m\u001b[0;34m)\u001b[0m\u001b[0;34m)\u001b[0m\u001b[0;34m\u001b[0m\u001b[0m\n\u001b[0m\u001b[1;32m      2\u001b[0m \u001b[0mgsf_pt_eta_phi\u001b[0m\u001b[0;34m[\u001b[0m\u001b[0mevtno\u001b[0m\u001b[0;34m]\u001b[0m\u001b[0;34m\u001b[0m\u001b[0m\n",
      "\u001b[0;31mIndexError\u001b[0m: list index out of range"
     ]
    }
   ],
   "source": [
    "print_kin(pf_gsfs[0].gsfTrackRef().get())\n",
    "gsf_pt_eta_phi[evtno]"
   ]
  },
  {
   "cell_type": "code",
   "execution_count": 15,
   "metadata": {
    "collapsed": false
   },
   "outputs": [
    {
     "data": {
      "text/plain": [
       "[]"
      ]
     },
     "execution_count": 15,
     "metadata": {},
     "output_type": "execute_result"
    }
   ],
   "source": [
    "pf_gsfs"
   ]
  },
  {
   "cell_type": "code",
   "execution_count": null,
   "metadata": {
    "collapsed": true
   },
   "outputs": [],
   "source": []
  }
 ],
 "metadata": {
  "kernelspec": {
   "display_name": "Python 2",
   "language": "python",
   "name": "python2"
  },
  "language_info": {
   "codemirror_mode": {
    "name": "ipython",
    "version": 2
   },
   "file_extension": ".py",
   "mimetype": "text/x-python",
   "name": "python",
   "nbconvert_exporter": "python",
   "pygments_lexer": "ipython2",
   "version": "2.7.11"
  }
 },
 "nbformat": 4,
 "nbformat_minor": 2
}
